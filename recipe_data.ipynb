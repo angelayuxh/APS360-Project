{
  "cells": [
    {
      "cell_type": "code",
      "execution_count": null,
      "metadata": {
        "colab": {
          "base_uri": "https://localhost:8080/"
        },
        "id": "wVwgFBmeN3pm",
        "outputId": "d793250e-e9c3-49ea-c5c3-171bd5a403de"
      },
      "outputs": [
        {
          "output_type": "stream",
          "name": "stdout",
          "text": [
            "Mounted at /content/drive\n"
          ]
        }
      ],
      "source": [
        "from google.colab import drive\n",
        "drive.mount('/content/drive')"
      ]
    },
    {
      "cell_type": "code",
      "execution_count": null,
      "metadata": {
        "id": "HMUzmPCsM-Fr"
      },
      "outputs": [],
      "source": [
        "import json\n",
        "import zipfile\n",
        "import csv"
      ]
    },
    {
      "cell_type": "markdown",
      "metadata": {
        "id": "SNe4ECdOJHYt"
      },
      "source": [
        "###Loading Data"
      ]
    },
    {
      "cell_type": "code",
      "execution_count": null,
      "metadata": {
        "colab": {
          "base_uri": "https://localhost:8080/"
        },
        "id": "-l0ERJ48NSuq",
        "outputId": "048452a8-6ee0-4ffb-f198-ad4d187072f2"
      },
      "outputs": [
        {
          "output_type": "stream",
          "name": "stdout",
          "text": [
            "--2023-03-17 16:50:54--  https://eightportions.com/recipes_raw.zip\n",
            "Resolving eightportions.com (eightportions.com)... 104.21.4.85, 172.67.131.221, 2606:4700:3033::6815:455, ...\n",
            "Connecting to eightportions.com (eightportions.com)|104.21.4.85|:443... connected.\n",
            "HTTP request sent, awaiting response... 200 OK\n",
            "Length: 53355492 (51M) [application/zip]\n",
            "Saving to: ‘recipes_raw.zip’\n",
            "\n",
            "recipes_raw.zip     100%[===================>]  50.88M   127MB/s    in 0.4s    \n",
            "\n",
            "2023-03-17 16:50:54 (127 MB/s) - ‘recipes_raw.zip’ saved [53355492/53355492]\n",
            "\n",
            "Archive:  /content/recipes_raw.zip\n",
            "  inflating: /content/datasets/recipes_raw_nosource_ar.json  \n",
            "  inflating: /content/datasets/recipes_raw_nosource_epi.json  \n",
            "  inflating: /content/datasets/recipes_raw_nosource_fn.json  \n",
            "  inflating: /content/datasets/LICENSE  \n"
          ]
        }
      ],
      "source": [
        "!wget https://eightportions.com/recipes_raw.zip\n",
        "!unzip /content/recipes_raw.zip -d /content/datasets/"
      ]
    },
    {
      "cell_type": "code",
      "execution_count": null,
      "metadata": {
        "id": "JmYCGEquOaSd"
      },
      "outputs": [],
      "source": [
        "# read data files\n",
        "file_names = ['recipes_raw_nosource_ar.json', 'recipes_raw_nosource_epi.json', 'recipes_raw_nosource_fn.json']\n",
        "\n",
        "data_keys = None\n",
        "recipe_dataset = []\n",
        "for file_name in file_names:\n",
        "  file_path = '/content/datasets/' + file_name\n",
        "  data_file = json.load(open(file_path))\n",
        "  data_items = list(data_file.values())\n",
        "  recipe_dataset += data_items\n",
        "\n",
        "  if data_keys == None: \n",
        "    data_keys = list(data_items[0].keys())"
      ]
    },
    {
      "cell_type": "code",
      "execution_count": null,
      "metadata": {
        "colab": {
          "base_uri": "https://localhost:8080/"
        },
        "id": "hahepgCFgF1A",
        "outputId": "04aacbe4-989c-4428-c0ec-5720fdb147c6"
      },
      "outputs": [
        {
          "output_type": "stream",
          "name": "stdout",
          "text": [
            "['title', 'ingredients', 'instructions', 'picture_link']\n",
            "Length of recipe dataset:  125164\n"
          ]
        }
      ],
      "source": [
        "print(data_keys)\n",
        "print(\"Length of recipe dataset: \", len(recipe_dataset))"
      ]
    },
    {
      "cell_type": "markdown",
      "metadata": {
        "id": "KMTQ2eA5grz8"
      },
      "source": [
        "### Data Processing\n",
        "\n",
        "\n",
        "*  Remove incomplete data\n",
        "*  Remove recipes whose ingredient lists does not contain targeted vegetables (recipes not related to this project)\n",
        "*  Remove junk words in the data (i.e., the word \"ADVERTISEMENT\")\n",
        "*  Generating a list of tags for each recipe for faster query search. Tags will be the targeted vegetables in ingredients of the recipe\n"
      ]
    },
    {
      "cell_type": "code",
      "execution_count": null,
      "metadata": {
        "id": "7jlsnCdRfmqp",
        "colab": {
          "base_uri": "https://localhost:8080/"
        },
        "outputId": "88487f91-d1d6-4778-acba-b1f36eba6d1e"
      },
      "outputs": [
        {
          "output_type": "stream",
          "name": "stdout",
          "text": [
            "['tablespoons', 'teaspoons', 'cans', 'packages', 'ounces', 'pieces', 'cups', 'pounds', 'inches', 'slices', 'halves', 'torned', 'crushed', 'chopped', 'softened', 'beaten', 'mashed', 'peeled', 'cut', 'divided', 'minced', 'tasted', 'sliced', 'melted', 'packed', 'diced', 'shredded', 'grated', 'cooked', 'rinsed', 'drained', 'prepared', 'of', 'finely', 'and', 'into', 'to', 'or', 'for', 'only', 'part', 'large', 'small', 'cube', 'optional', 'with', 'cooking']\n"
          ]
        }
      ],
      "source": [
        "# target vegetables\n",
        "vegetable_classes = ['asparagus', 'bell pepper', 'broccoli', 'cabbage', 'carrot', 'celery', 'chilli pepper', 'corn', 'cucumber', 'eggplant', \n",
        "                     'lettuce', 'mushroom', 'onion', 'peas', 'potato', 'pumpkin', 'raddish', 'spinach', 'sweet potato', 'tomato']\n",
        "\n",
        "\n",
        "units = ['tablespoons', 'teaspoons', 'cans', 'packages', 'ounces', 'pieces', 'cups', 'pounds', 'inches', 'slices', 'halves']\n",
        "\n",
        "action_words = ['torned', 'crushed', 'chopped', 'softened', 'beaten', 'mashed', 'peeled', 'cut', 'divided', 'minced', 'tasted', 'sliced', 'melted', \n",
        "                'packed', 'diced', 'shredded', 'grated', 'cooked', 'rinsed', 'drained', 'prepared']\n",
        "\n",
        "common_words = ['of', 'finely', 'and', 'into', 'to', 'or', 'for', 'only', 'part', 'large', 'small', 'cube', 'optional', 'with', 'cooking']\n",
        "\n",
        "non_keywords = units + action_words + common_words\n",
        "print(non_keywords)\n"
      ]
    },
    {
      "cell_type": "code",
      "source": [
        "# seasonings and spices\n",
        "# seasoning = ['salt', 'vinegar', 'black pepper', 'garlic powder', 'oregano', 'basil', 'parsley', 'vanilla extract', 'thyme', 'rosemary',\n",
        "#              'curry powder', 'ground ginger', 'ground cumin', 'ground cinnamon', 'red wine', 'almond extract']\n",
        "\n",
        "# common ingredient \n",
        "# common_ingredients = ['buttter', 'cheese', 'cream cheese', 'brown sugar', 'vinegar', 'soy sauce', 'salt', 'white sugar', 'milk', 'sour cream',\n",
        "#                       'egg', 'honey', 'plain yogurt', 'lemon juice', 'whole wheat flour', 'all-purpose flour', 'white rice', 'bread crumbs',\n",
        "#                       'applesauce', 'spaghetti sauce', 'baking powder', 'baking soda', 'peanut butter', ]\n",
        "\n",
        "# meat = ['shrimp', 'chicken', 'beef', 'pork', 'salmon', 'turkey', 'bacon']"
      ],
      "metadata": {
        "id": "lBrHpEMCFrk_"
      },
      "execution_count": null,
      "outputs": []
    },
    {
      "cell_type": "markdown",
      "metadata": {
        "id": "OJ0wIKoeJbZE"
      },
      "source": [
        "Remove incomplete data"
      ]
    },
    {
      "cell_type": "code",
      "execution_count": null,
      "metadata": {
        "id": "ircTUuJZhv1U"
      },
      "outputs": [],
      "source": [
        "def is_incomplete(recipe):\n",
        "  title = recipe.get('title')\n",
        "  ingredients = recipe.get('ingredients')\n",
        "  instructions = recipe.get('instructions')\n",
        "\n",
        "  if title == None or ingredients == None or instructions == None or len(recipe['ingredients']) == 0:\n",
        "    return False\n",
        "  \n",
        "  return True"
      ]
    },
    {
      "cell_type": "code",
      "execution_count": null,
      "metadata": {
        "id": "jjLyFo1jjPKm",
        "colab": {
          "base_uri": "https://localhost:8080/"
        },
        "outputId": "de792815-dec5-4ca0-901c-27c614ea3111"
      },
      "outputs": [
        {
          "output_type": "stream",
          "name": "stdout",
          "text": [
            "Number of incomplete recipes:  2211\n",
            "Length of recipe dataset:  122953\n"
          ]
        }
      ],
      "source": [
        "num_incomplete = 0\n",
        "\n",
        "# loop 3 times to make sure all the incomplete recipes are removed\n",
        "for i in range(0,3):\n",
        "  for recipe in recipe_dataset:\n",
        "    if is_incomplete(recipe) == False:\n",
        "      recipe_dataset.remove(recipe)\n",
        "      num_incomplete += 1\n",
        "\n",
        "print(\"Number of incomplete recipes: \", num_incomplete)\n",
        "print(\"Length of recipe dataset: \", len(recipe_dataset))"
      ]
    },
    {
      "cell_type": "markdown",
      "metadata": {
        "id": "-woawEa2Jhmm"
      },
      "source": [
        "Remove recipes whose ingredient lists does not contain targeted vegetables"
      ]
    },
    {
      "cell_type": "code",
      "execution_count": null,
      "metadata": {
        "id": "Xi5jIT94kkfS"
      },
      "outputs": [],
      "source": [
        "def contains_ingredient(recipe, target_list):\n",
        "  for ingredient in recipe.get('ingredients'):\n",
        "    for target in target_list:\n",
        "      if target in ingredient:\n",
        "        return True\n",
        "\n",
        "  return False"
      ]
    },
    {
      "cell_type": "code",
      "execution_count": null,
      "metadata": {
        "colab": {
          "base_uri": "https://localhost:8080/"
        },
        "id": "NUSi_ePKlzfd",
        "outputId": "1fd3693e-4711-49cf-c1bf-cd04157790a2"
      },
      "outputs": [
        {
          "output_type": "stream",
          "name": "stdout",
          "text": [
            "Length of recipe dataset (before processing):  122953\n",
            "Completed:  0 /122953\n",
            "Completed:  10000 /122953\n",
            "Completed:  20000 /122953\n",
            "Completed:  30000 /122953\n",
            "Completed:  40000 /122953\n",
            "Completed:  50000 /122953\n",
            "Completed:  60000 /122953\n",
            "Completed:  70000 /122953\n",
            "Completed:  80000 /122953\n",
            "Number of recipes that does not contain targeted vegetables:  38220\n",
            "Length of recipe dataset (after processing):  84733\n"
          ]
        }
      ],
      "source": [
        "print(\"Length of recipe dataset (before processing): \", len(recipe_dataset))\n",
        "\n",
        "num_missing_ingredients = 0\n",
        "for i, recipe in enumerate(recipe_dataset):\n",
        "  if i % 10000 == 0:\n",
        "    print(\"Completed: \", i, \"/122953\")\n",
        "  if contains_ingredient(recipe, vegetable_classes) == False:\n",
        "    recipe_dataset.remove(recipe)\n",
        "    num_missing_ingredients += 1\n",
        "\n",
        "print(\"Number of recipes that does not contain targeted vegetables: \", num_missing_ingredients)\n",
        "print(\"Length of recipe dataset (after processing): \", len(recipe_dataset))"
      ]
    },
    {
      "cell_type": "markdown",
      "metadata": {
        "id": "LdL3ACgheVwy"
      },
      "source": [
        "Remove junk words in the data (ex. ADVERTISEMENT) and for the vegetables that can take on multiple names, replace the names with the our \"standard\" ones for consistency"
      ]
    },
    {
      "cell_type": "code",
      "execution_count": null,
      "metadata": {
        "id": "SukpVi2keaqU"
      },
      "outputs": [],
      "source": [
        "target_word = \"ADVERTISEMENT\"\n",
        "alternate_names = {\n",
        "  \"chile pepper\": \"chili pepper\",\n",
        "  \"capsicum\": \"bell pepper\",\n",
        "  \"brinjal\": \"eggplant\",\n",
        "  \"fungi\" : \"mushroom\"\n",
        "}\n",
        "\n",
        "def remove_junk(recipe):\n",
        "  updated_recipe = []\n",
        "  for ingredient in recipe.get('ingredients'):\n",
        "    ingredient = ingredient.replace(target_word, \"\")\n",
        "    for key in alternate_names:\n",
        "      ingredient = ingredient.replace(key, alternate_names[key])\n",
        "    updated_recipe.append(ingredient)\n",
        "  # print(updated_recipe)\n",
        "  return updated_recipe"
      ]
    },
    {
      "cell_type": "code",
      "execution_count": null,
      "metadata": {
        "colab": {
          "base_uri": "https://localhost:8080/"
        },
        "id": "3UwMIzj1gsT4",
        "outputId": "9e49d83b-4125-4a80-a489-e0005df44942"
      },
      "outputs": [
        {
          "output_type": "stream",
          "name": "stdout",
          "text": [
            "Updated ingredients field for first object:  ['4 skinless, boneless chicken breast halves ', '2 tablespoons butter ', '2 (10.75 ounce) cans condensed cream of chicken soup ', '1 onion, finely diced ', '2 (10 ounce) packages refrigerated biscuit dough, torn into pieces ', '']\n"
          ]
        }
      ],
      "source": [
        "i = 0\n",
        "for recipe in recipe_dataset:\n",
        "  new_recipe = remove_junk(recipe)\n",
        "  recipe_dataset[i][\"ingredients\"] = new_recipe\n",
        "  i = i + 1\n",
        "print(\"Updated ingredients field for first object: \", recipe_dataset[0][\"ingredients\"])\n"
      ]
    },
    {
      "cell_type": "markdown",
      "metadata": {
        "id": "oYuNl2L_ocB-"
      },
      "source": [
        "# Adding an Additional Veggies Field to Help with Later Querying"
      ]
    },
    {
      "cell_type": "code",
      "execution_count": null,
      "metadata": {
        "colab": {
          "base_uri": "https://localhost:8080/"
        },
        "id": "Fp0fMbx6oiJU",
        "outputId": "b36f5f6b-54bb-4a44-a2b9-aab7ccd11cb6"
      },
      "outputs": [
        {
          "output_type": "stream",
          "name": "stdout",
          "text": [
            "{'title': 'Slow Cooker Chicken and Dumplings', 'ingredients': ['4 skinless, boneless chicken breast halves ', '2 tablespoons butter ', '2 (10.75 ounce) cans condensed cream of chicken soup ', '1 onion, finely diced ', '2 (10 ounce) packages refrigerated biscuit dough, torn into pieces ', ''], 'instructions': 'Place the chicken, butter, soup, and onion in a slow cooker, and fill with enough water to cover.\\nCover, and cook for 5 to 6 hours on High. About 30 minutes before serving, place the torn biscuit dough in the slow cooker. Cook until the dough is no longer raw in the center.\\n', 'picture_link': '55lznCYBbs2mT8BTx6BTkLhynGHzM.S', 'veggies': 'onion', 'keywords': 'skinless\\nboneless\\nchicken\\nbreast\\nbutter\\ncondensed\\ncream\\nsoup\\nrefrigerated\\nbiscuit\\ndough'}\n",
            "{'title': 'Baked Teriyaki Chicken', 'ingredients': ['1 tablespoon cornstarch ', '1 tablespoon cold water ', '1/2 cup white sugar ', '1/2 cup soy sauce ', '1/4 cup cider vinegar ', '1 clove garlic, minced ', '1/2 teaspoon ground ginger ', '1/4 teaspoon ground black pepper ', '12 skinless chicken thighs ', ''], 'instructions': 'In a small saucepan over low heat, combine the cornstarch, cold water, sugar, soy sauce, vinegar, garlic, ginger and ground black pepper. Let simmer, stirring frequently, until sauce thickens and bubbles.\\nPreheat oven to 425 degrees F (220 degrees C).\\nPlace chicken pieces in a lightly greased 9x13 inch baking dish. Brush chicken with the sauce. Turn pieces over, and brush again.\\nBake in the preheated oven for 30 minutes. Turn pieces over, and bake for another 30 minutes, until no longer pink and juices run clear. Brush with sauce every 10 minutes during cooking.\\n', 'picture_link': 'OEYgIen90sBkOPUM5x0RYnh2/JsdYt6', 'veggies': 'corn', 'keywords': 'cornstarch\\ncold\\nwater\\nwhite\\nsugar\\nsoy\\nsauce\\ncider\\nvinegar\\nclove\\ngarlic\\nground\\nginger\\nblack\\npepper\\nskinless\\nchicken\\nthighs'}\n"
          ]
        }
      ],
      "source": [
        "import re\n",
        "\n",
        "for recipe in recipe_dataset:\n",
        "  veggies_list = \"\"\n",
        "  keywords = \"\"\n",
        "\n",
        "  for ingredient in recipe.get('ingredients'):\n",
        "    for target in vegetable_classes:\n",
        "      if target in ingredient and target not in veggies_list:\n",
        "        if not veggies_list:\n",
        "          veggies_list = target\n",
        "        else:\n",
        "          veggies_list = veggies_list + \"\\n\" + target\n",
        "        continue\n",
        "  recipe[\"veggies\"] = veggies_list\n",
        "\n",
        "  for ingredient in recipe.get('ingredients'):\n",
        "    temp = re.findall(r'\\w+', ingredient)\n",
        "    for item in temp:\n",
        "      if item.isalpha() and item not in keywords and item not in vegetable_classes:\n",
        "        for word in non_keywords:\n",
        "          match_found = False\n",
        "          if item.lower() in word:\n",
        "            match_found = True\n",
        "            break\n",
        "        if match_found == False:\n",
        "          if not keywords:\n",
        "            keywords = item\n",
        "          else:\n",
        "            keywords = keywords + \"\\n\" + item     \n",
        "      # if item is of type char and not in the non_keywords list\n",
        "      # if item.isalpha() and item not in keywords and item.lower() not in non_keywords:\n",
        "        \n",
        "  recipe[\"keywords\"] = keywords\n",
        "\n",
        "print(recipe_dataset[0])\n",
        "print(recipe_dataset[20])"
      ]
    },
    {
      "cell_type": "code",
      "source": [
        "print(recipe_dataset[158])"
      ],
      "metadata": {
        "colab": {
          "base_uri": "https://localhost:8080/"
        },
        "id": "G7eim5PRhx31",
        "outputId": "cfda9fdf-7fa6-418e-b45e-f5ba42565f05"
      },
      "execution_count": null,
      "outputs": [
        {
          "output_type": "stream",
          "name": "stdout",
          "text": [
            "{'title': \"Cha Cha's White Chicken Chili\", 'ingredients': ['1 tablespoon vegetable oil ', '1 onion, chopped ', '3 cloves garlic, crushed ', '1 (4 ounce) can diced jalapeno peppers ', '1 (4 ounce) can chopped green chilli peppers ', '2 teaspoons ground cumin ', '1 teaspoon dried oregano ', '1 teaspoon ground cayenne pepper ', '2 (14.5 ounce) cans chicken broth ', '3 cups chopped cooked chicken breast ', '3 (15 ounce) cans white beans ', '1 cup shredded Monterey Jack cheese ', ''], 'instructions': 'Heat the oil in a large saucepan over medium-low heat. Slowly cook and stir the onion until tender. Mix in the garlic, jalapeno, green chile peppers, cumin, oregano and cayenne. Continue to cook and stir the mixture until tender, about 3 minutes. Mix in the chicken broth, chicken and white beans. Simmer 15 minutes, stirring occasionally.\\nRemove the mixture from heat. Slowly stir in the cheese until melted. Serve warm.\\n', 'picture_link': 'CAL0XavDT2gYTpAMyCDQARVTZ4DflD.', 'veggies': 'onion', 'keywords': 'vegetable\\noil\\ncloves\\ngarlic\\njalapeno\\npeppers\\ngreen\\nchilli\\nground\\ncumin\\ndried\\noregano\\ncayenne\\nchicken\\nbroth\\nbreast\\nwhite\\nbeans\\nMonterey\\nJack\\ncheese'}\n"
          ]
        }
      ]
    },
    {
      "cell_type": "markdown",
      "metadata": {
        "id": "q_8K-5KBSIIc"
      },
      "source": [
        "### Saving as CSV file\n",
        "\n",
        "\n",
        "*   Ingredients are given as a list, need to reformat before saving to csv file\n",
        "\n"
      ]
    },
    {
      "cell_type": "code",
      "execution_count": null,
      "metadata": {
        "id": "E_6grdV7fTKT"
      },
      "outputs": [],
      "source": [
        "headers = ['title', 'veggies', 'keywords', 'ingredients', 'instructions', 'picture_link']\n",
        "num_recipes = 300\n",
        "\n",
        "csv_path = \"/content/drive/MyDrive/APS360 Project/recipe_data.csv\"\n",
        "\n",
        "count = 0\n",
        "with open(csv_path, \"w\", newline=\"\") as f:\n",
        "    writer = csv.DictWriter(f, fieldnames=headers)\n",
        "    writer.writeheader()\n",
        "\n",
        "    for row in recipe_dataset:\n",
        "      if count > num_recipes:\n",
        "        break\n",
        "      # only write row if veggies list is non-empty\n",
        "      if row[\"veggies\"]:\n",
        "        writer.writerow(row)\n",
        "        count = count + 1\n"
      ]
    }
  ],
  "metadata": {
    "colab": {
      "provenance": []
    },
    "kernelspec": {
      "display_name": "Python 3",
      "name": "python3"
    },
    "language_info": {
      "name": "python"
    }
  },
  "nbformat": 4,
  "nbformat_minor": 0
}