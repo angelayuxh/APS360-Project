{
  "nbformat": 4,
  "nbformat_minor": 0,
  "metadata": {
    "colab": {
      "provenance": []
    },
    "kernelspec": {
      "name": "python3",
      "display_name": "Python 3"
    },
    "language_info": {
      "name": "python"
    },
    "accelerator": "GPU",
    "gpuClass": "standard"
  },
  "cells": [
    {
      "cell_type": "code",
      "execution_count": 1,
      "metadata": {
        "colab": {
          "base_uri": "https://localhost:8080/"
        },
        "id": "xx_uAmdu0inp",
        "outputId": "70e8c0d3-2cd2-4599-99d0-d18fce4b9b88"
      },
      "outputs": [
        {
          "output_type": "stream",
          "name": "stdout",
          "text": [
            "Mounted at /content/drive\n"
          ]
        }
      ],
      "source": [
        "from google.colab import drive\n",
        "drive.mount('/content/drive')"
      ]
    },
    {
      "cell_type": "code",
      "source": [
        "import numpy as np\n",
        "import time\n",
        "import torch\n",
        "import torch.nn as nn\n",
        "import torch.nn.functional as F\n",
        "import torch.optim as optim\n",
        "import torchvision\n",
        "from torch.utils.data.sampler import SubsetRandomSampler\n",
        "import torchvision.transforms as transforms\n",
        "import matplotlib.pyplot as plt\n",
        "from torch.utils.data import DataLoader\n",
        "\n",
        "import csv\n",
        "import matplotlib.pyplot as plt\n",
        "from PIL import Image\n",
        "from sklearn.metrics import confusion_matrix\n",
        "import glob"
      ],
      "metadata": {
        "id": "11rYD2DH0vCt"
      },
      "execution_count": 2,
      "outputs": []
    },
    {
      "cell_type": "code",
      "source": [
        "file_dir = \"/content/drive/MyDrive/APS360 Project/\"\n",
        "test_path = file_dir + \"vegetable dataset/test/\"\n",
        "\n",
        "# 20 vegetable classes\n",
        "vegetable_classes = ['asparagus', 'bell pepper', 'broccoli', 'cabbage', 'carrot', 'celery', 'chilli pepper', 'corn', 'cucumber', 'eggplant', \n",
        "                     'lettuce', 'mushroom', 'onion', 'peas', 'potato', 'pumpkin', 'raddish', 'spinach', 'sweet potato', 'tomato']"
      ],
      "metadata": {
        "id": "vnugdoIK0xl_"
      },
      "execution_count": 22,
      "outputs": []
    },
    {
      "cell_type": "code",
      "source": [
        "def get_accuracy(model, data):\n",
        "    correct = 0\n",
        "    total = 0\n",
        "    for imgs, labels in data:\n",
        "        \n",
        "        \n",
        "        #############################################\n",
        "        #To Enable GPU Usage\n",
        "        if use_cuda and torch.cuda.is_available():\n",
        "          imgs = imgs.cuda()\n",
        "          labels = labels.cuda()\n",
        "        #############################################\n",
        "        \n",
        "        output = model(imgs)\n",
        "        \n",
        "        #select index with maximum prediction score\n",
        "        pred = output.max(1, keepdim=True)[1]\n",
        "        correct += pred.eq(labels.view_as(pred)).sum().item()\n",
        "        total += imgs.shape[0]\n",
        "    return correct / total"
      ],
      "metadata": {
        "id": "eWF8x_9x2S6r"
      },
      "execution_count": 4,
      "outputs": []
    },
    {
      "cell_type": "code",
      "source": [
        "class VeggieCNN(nn.Module):\n",
        "    def __init__(self):\n",
        "        super(VeggieCNN, self).__init__()\n",
        "        self.name = \"VeggieCNN\"\n",
        "        self.conv1 = nn.Conv2d(256, 256, 5)\n",
        "        self.pool = nn.MaxPool2d(2, 2)\n",
        "        self.fc1 = nn.Linear(256 * 1 * 1, 20)\n",
        "\n",
        "    def forward(self, x):\n",
        "        x = self.pool(F.relu(self.conv1(x)))\n",
        "        x = x.view(-1, 256 * 1 * 1)\n",
        "        x = self.fc1(x)\n",
        "        return x"
      ],
      "metadata": {
        "id": "VpzYXXCt0zmU"
      },
      "execution_count": 5,
      "outputs": []
    },
    {
      "cell_type": "code",
      "source": [
        "## load model\n",
        "model_path =  file_dir + \"saved_model\"\n",
        "model = VeggieCNN().cuda()\n",
        "state = torch.load(model_path)\n",
        "model.load_state_dict(state)"
      ],
      "metadata": {
        "colab": {
          "base_uri": "https://localhost:8080/"
        },
        "id": "vipsS5lb07ak",
        "outputId": "3cb9ea1f-7160-432c-b424-193546887870"
      },
      "execution_count": 27,
      "outputs": [
        {
          "output_type": "execute_result",
          "data": {
            "text/plain": [
              "<All keys matched successfully>"
            ]
          },
          "metadata": {},
          "execution_count": 27
        }
      ]
    },
    {
      "cell_type": "code",
      "source": [
        "np.random.seed(1000)\n",
        "\n",
        "transform = transforms.Compose([transforms.ToTensor(),\n",
        "                                transforms.Normalize((0.5, 0.5, 0.5), (0.5, 0.5, 0.5)),\n",
        "                                transforms.Resize((224, 224))])\n",
        "test_set = torchvision.datasets.ImageFolder(test_path, transform=transform)"
      ],
      "metadata": {
        "id": "UQMcKLjI1XnH"
      },
      "execution_count": 57,
      "outputs": []
    },
    {
      "cell_type": "code",
      "source": [
        "test_loader = DataLoader(test_set, batch_size = 1, shuffle=True)"
      ],
      "metadata": {
        "id": "-Y3X2eJi2AmV"
      },
      "execution_count": 58,
      "outputs": []
    },
    {
      "cell_type": "code",
      "source": [
        "import torchvision.models\n",
        "alexnet = torchvision.models.alexnet(pretrained=True)"
      ],
      "metadata": {
        "colab": {
          "base_uri": "https://localhost:8080/"
        },
        "id": "OTuBonHZ348j",
        "outputId": "e25ecd54-267c-457e-ca24-350b75e9d07d"
      },
      "execution_count": 9,
      "outputs": [
        {
          "output_type": "stream",
          "name": "stderr",
          "text": [
            "/usr/local/lib/python3.9/dist-packages/torchvision/models/_utils.py:208: UserWarning: The parameter 'pretrained' is deprecated since 0.13 and may be removed in the future, please use 'weights' instead.\n",
            "  warnings.warn(\n",
            "/usr/local/lib/python3.9/dist-packages/torchvision/models/_utils.py:223: UserWarning: Arguments other than a weight enum or `None` for 'weights' are deprecated since 0.13 and may be removed in the future. The current behavior is equivalent to passing `weights=AlexNet_Weights.IMAGENET1K_V1`. You can also use `weights=AlexNet_Weights.DEFAULT` to get the most up-to-date weights.\n",
            "  warnings.warn(msg)\n",
            "Downloading: \"https://download.pytorch.org/models/alexnet-owt-7be5be79.pth\" to /root/.cache/torch/hub/checkpoints/alexnet-owt-7be5be79.pth\n",
            "100%|██████████| 233M/233M [00:01<00:00, 127MB/s]\n"
          ]
        }
      ]
    },
    {
      "cell_type": "code",
      "source": [
        "import os\n",
        "FEATURE_PATH = '/content/drive/MyDrive/APS360 Project/features/'\n",
        "\n",
        "valid_labels = ['cucumber']\n",
        "\n",
        "def alexnet_features(data_loader, path):\n",
        "  n=0\n",
        "  for img, label in iter(data_loader):\n",
        "\n",
        "    if vegetable_classes[label] in valid_labels:\n",
        "      features = alexnet.features(img)\n",
        "      features = torch.from_numpy(features.detach().numpy())\n",
        "\n",
        "      dir_path = path + str(vegetable_classes[label])\n",
        "      try:\n",
        "        os.makedirs(dir_path)\n",
        "      except FileExistsError:\n",
        "        pass\n",
        "      torch.save(features.squeeze(0), dir_path + \"/\" + str(n) + \".tensor\")\n",
        "      n+=1"
      ],
      "metadata": {
        "id": "BVmPED8h3zIo"
      },
      "execution_count": 59,
      "outputs": []
    },
    {
      "cell_type": "code",
      "source": [
        "alexnet_features(test_loader, FEATURE_PATH + \"test/\")"
      ],
      "metadata": {
        "id": "Yq1orw8E4jDx"
      },
      "execution_count": 61,
      "outputs": []
    },
    {
      "cell_type": "code",
      "source": [
        "test_feature_path = FEATURE_PATH + \"test/\""
      ],
      "metadata": {
        "id": "BcBSwQdhCUaf"
      },
      "execution_count": 42,
      "outputs": []
    },
    {
      "cell_type": "code",
      "source": [
        "alex_test_set = torchvision.datasets.DatasetFolder(FEATURE_PATH + \"test/\", loader=torch.load, extensions=('.tensor'))\n",
        "alex_test_loader = DataLoader(alex_test_set, batch_size = 34, shuffle=True, drop_last=True)"
      ],
      "metadata": {
        "id": "XIn9d4GB5yCG"
      },
      "execution_count": 66,
      "outputs": []
    },
    {
      "cell_type": "code",
      "source": [
        "use_cuda = True\n",
        "test_acc =  get_accuracy(model, alex_test_loader)\n",
        "print(\"Final Test Accuracy: \", test_acc)"
      ],
      "metadata": {
        "colab": {
          "base_uri": "https://localhost:8080/"
        },
        "id": "PGuh6FhS2ZTw",
        "outputId": "03faef85-cd5d-4ddb-fb35-75ffbd2b6778"
      },
      "execution_count": 67,
      "outputs": [
        {
          "output_type": "stream",
          "name": "stdout",
          "text": [
            "Final Test Accuracy:  0.7455882352941177\n"
          ]
        }
      ]
    },
    {
      "cell_type": "code",
      "source": [
        "for i, label in enumerate(vegetable_classes):\n",
        "  veggie_path = \"/content/drive/MyDrive/alex_test/\" + label\n",
        "  features = torchvision.datasets.DatasetFolder(veggie_path, loader=torch.load, extensions=('.tensor'))\n",
        "  test_loader = torch.utils.data.DataLoader(features, batch_size=1, shuffle=True)\n",
        "\n",
        "  correct = 0\n",
        "  false_positive = [0]*20\n",
        "  for imgs, labels in test_loader:\n",
        "        #############################################\n",
        "        #To Enable GPU Usage\n",
        "        if torch.cuda.is_available():\n",
        "          imgs = imgs.cuda()\n",
        "          labels = labels.cuda()\n",
        "        #############################################\n",
        "        \n",
        "        \n",
        "        output = model(imgs)\n",
        "        probs = F.softmax(output, dim=1)\n",
        "        _, predicted = torch.max(probs, 1)\n",
        "        # print(predicted.item())\n",
        "\n",
        "        if predicted.item() == i:\n",
        "          correct += 1\n",
        "        else:\n",
        "          false_positive[predicted.item()] += 1\n",
        "\n",
        "  print(vegetable_classes[i] + \":\")\n",
        "  print(f\"\\tAccuracy: {correct/len(test_loader)*100:.2f}%\")\n",
        "  print(f\"\\tMost frequent false postive: {vegetable_classes[np.argmax(false_positive)]}\")"
      ],
      "metadata": {
        "colab": {
          "base_uri": "https://localhost:8080/"
        },
        "id": "GADit4AvB1Hb",
        "outputId": "b6060360-0f15-416e-8e38-2fd1fa90d985"
      },
      "execution_count": 65,
      "outputs": [
        {
          "output_type": "stream",
          "name": "stdout",
          "text": [
            "asparagus:\n",
            "\tAccuracy: 87.50%\n",
            "\tMost frequent false postive: celery\n",
            "bell pepper:\n",
            "\tAccuracy: 58.33%\n",
            "\tMost frequent false postive: tomato\n",
            "broccoli:\n",
            "\tAccuracy: 100.00%\n",
            "\tMost frequent false postive: asparagus\n",
            "cabbage:\n",
            "\tAccuracy: 71.43%\n",
            "\tMost frequent false postive: potato\n",
            "carrot:\n",
            "\tAccuracy: 91.43%\n",
            "\tMost frequent false postive: sweet potato\n",
            "celery:\n",
            "\tAccuracy: 14.29%\n",
            "\tMost frequent false postive: asparagus\n",
            "chilli pepper:\n",
            "\tAccuracy: 65.62%\n",
            "\tMost frequent false postive: spinach\n",
            "corn:\n",
            "\tAccuracy: 80.56%\n",
            "\tMost frequent false postive: asparagus\n",
            "cucumber:\n",
            "\tAccuracy: 51.52%\n",
            "\tMost frequent false postive: asparagus\n",
            "eggplant:\n",
            "\tAccuracy: 80.56%\n",
            "\tMost frequent false postive: carrot\n",
            "lettuce:\n",
            "\tAccuracy: 52.50%\n",
            "\tMost frequent false postive: cabbage\n",
            "mushroom:\n",
            "\tAccuracy: 51.52%\n",
            "\tMost frequent false postive: celery\n",
            "onion:\n",
            "\tAccuracy: 94.29%\n",
            "\tMost frequent false postive: mushroom\n",
            "peas:\n",
            "\tAccuracy: 93.94%\n",
            "\tMost frequent false postive: celery\n",
            "potato:\n",
            "\tAccuracy: 100.00%\n",
            "\tMost frequent false postive: asparagus\n",
            "pumpkin:\n",
            "\tAccuracy: 92.31%\n",
            "\tMost frequent false postive: broccoli\n",
            "radish:\n",
            "\tAccuracy: 94.44%\n",
            "\tMost frequent false postive: celery\n",
            "spinach:\n",
            "\tAccuracy: 70.59%\n",
            "\tMost frequent false postive: eggplant\n",
            "sweet potato:\n",
            "\tAccuracy: 72.73%\n",
            "\tMost frequent false postive: mushroom\n",
            "tomato:\n",
            "\tAccuracy: 71.88%\n",
            "\tMost frequent false postive: carrot\n"
          ]
        }
      ]
    }
  ]
}