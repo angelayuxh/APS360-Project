{
  "cells": [
    {
      "cell_type": "code",
      "execution_count": 1,
      "metadata": {
        "colab": {
          "base_uri": "https://localhost:8080/"
        },
        "id": "xx_uAmdu0inp",
        "outputId": "70e8c0d3-2cd2-4599-99d0-d18fce4b9b88"
      },
      "outputs": [
        {
          "name": "stdout",
          "output_type": "stream",
          "text": [
            "Mounted at /content/drive\n"
          ]
        }
      ],
      "source": [
        "from google.colab import drive\n",
        "drive.mount('/content/drive')"
      ]
    },
    {
      "cell_type": "code",
      "execution_count": 2,
      "metadata": {
        "id": "11rYD2DH0vCt"
      },
      "outputs": [],
      "source": [
        "import numpy as np\n",
        "import time\n",
        "import torch\n",
        "import torch.nn as nn\n",
        "import torch.nn.functional as F\n",
        "import torch.optim as optim\n",
        "import torchvision\n",
        "from torch.utils.data.sampler import SubsetRandomSampler\n",
        "import torchvision.transforms as transforms\n",
        "import matplotlib.pyplot as plt\n",
        "from torch.utils.data import DataLoader\n",
        "\n",
        "import csv\n",
        "import matplotlib.pyplot as plt\n",
        "from PIL import Image\n",
        "from sklearn.metrics import confusion_matrix\n",
        "import glob"
      ]
    },
    {
      "cell_type": "code",
      "execution_count": 22,
      "metadata": {
        "id": "vnugdoIK0xl_"
      },
      "outputs": [],
      "source": [
        "file_dir = \"/content/drive/MyDrive/APS360 Project/\"\n",
        "test_path = file_dir + \"vegetable dataset/test/\"\n",
        "\n",
        "# 20 vegetable classes\n",
        "vegetable_classes = ['asparagus', 'bell pepper', 'broccoli', 'cabbage', 'carrot', 'celery', 'chilli pepper', 'corn', 'cucumber', 'eggplant', \n",
        "                     'lettuce', 'mushroom', 'onion', 'peas', 'potato', 'pumpkin', 'raddish', 'spinach', 'sweet potato', 'tomato']"
      ]
    },
    {
      "cell_type": "code",
      "execution_count": 4,
      "metadata": {
        "id": "eWF8x_9x2S6r"
      },
      "outputs": [],
      "source": [
        "def get_accuracy(model, data):\n",
        "    correct = 0\n",
        "    total = 0\n",
        "    for imgs, labels in data:\n",
        "        \n",
        "        \n",
        "        #############################################\n",
        "        #To Enable GPU Usage\n",
        "        if use_cuda and torch.cuda.is_available():\n",
        "          imgs = imgs.cuda()\n",
        "          labels = labels.cuda()\n",
        "        #############################################\n",
        "        \n",
        "        output = model(imgs)\n",
        "        \n",
        "        #select index with maximum prediction score\n",
        "        pred = output.max(1, keepdim=True)[1]\n",
        "        correct += pred.eq(labels.view_as(pred)).sum().item()\n",
        "        total += imgs.shape[0]\n",
        "    return correct / total"
      ]
    },
    {
      "cell_type": "code",
      "execution_count": 5,
      "metadata": {
        "id": "VpzYXXCt0zmU"
      },
      "outputs": [],
      "source": [
        "class VeggieCNN(nn.Module):\n",
        "    def __init__(self):\n",
        "        super(VeggieCNN, self).__init__()\n",
        "        self.name = \"VeggieCNN\"\n",
        "        self.conv1 = nn.Conv2d(256, 256, 5)\n",
        "        self.pool = nn.MaxPool2d(2, 2)\n",
        "        self.fc1 = nn.Linear(256 * 1 * 1, 20)\n",
        "\n",
        "    def forward(self, x):\n",
        "        x = self.pool(F.relu(self.conv1(x)))\n",
        "        x = x.view(-1, 256 * 1 * 1)\n",
        "        x = self.fc1(x)\n",
        "        return x"
      ]
    },
    {
      "cell_type": "code",
      "execution_count": 27,
      "metadata": {
        "colab": {
          "base_uri": "https://localhost:8080/"
        },
        "id": "vipsS5lb07ak",
        "outputId": "3cb9ea1f-7160-432c-b424-193546887870"
      },
      "outputs": [
        {
          "data": {
            "text/plain": [
              "<All keys matched successfully>"
            ]
          },
          "execution_count": 27,
          "metadata": {},
          "output_type": "execute_result"
        }
      ],
      "source": [
        "## load model\n",
        "model_path =  file_dir + \"saved_model\"\n",
        "model = VeggieCNN().cuda()\n",
        "state = torch.load(model_path)\n",
        "model.load_state_dict(state)"
      ]
    },
    {
      "cell_type": "code",
      "execution_count": 57,
      "metadata": {
        "id": "UQMcKLjI1XnH"
      },
      "outputs": [],
      "source": [
        "np.random.seed(1000)\n",
        "\n",
        "transform = transforms.Compose([transforms.ToTensor(),\n",
        "                                transforms.Normalize((0.5, 0.5, 0.5), (0.5, 0.5, 0.5)),\n",
        "                                transforms.Resize((224, 224))])\n",
        "test_set = torchvision.datasets.ImageFolder(test_path, transform=transform)"
      ]
    },
    {
      "cell_type": "code",
      "execution_count": 58,
      "metadata": {
        "id": "-Y3X2eJi2AmV"
      },
      "outputs": [],
      "source": [
        "test_loader = DataLoader(test_set, batch_size = 1, shuffle=True)"
      ]
    },
    {
      "cell_type": "code",
      "execution_count": 9,
      "metadata": {
        "colab": {
          "base_uri": "https://localhost:8080/"
        },
        "id": "OTuBonHZ348j",
        "outputId": "e25ecd54-267c-457e-ca24-350b75e9d07d"
      },
      "outputs": [
        {
          "name": "stderr",
          "output_type": "stream",
          "text": [
            "/usr/local/lib/python3.9/dist-packages/torchvision/models/_utils.py:208: UserWarning: The parameter 'pretrained' is deprecated since 0.13 and may be removed in the future, please use 'weights' instead.\n",
            "  warnings.warn(\n",
            "/usr/local/lib/python3.9/dist-packages/torchvision/models/_utils.py:223: UserWarning: Arguments other than a weight enum or `None` for 'weights' are deprecated since 0.13 and may be removed in the future. The current behavior is equivalent to passing `weights=AlexNet_Weights.IMAGENET1K_V1`. You can also use `weights=AlexNet_Weights.DEFAULT` to get the most up-to-date weights.\n",
            "  warnings.warn(msg)\n",
            "Downloading: \"https://download.pytorch.org/models/alexnet-owt-7be5be79.pth\" to /root/.cache/torch/hub/checkpoints/alexnet-owt-7be5be79.pth\n",
            "100%|██████████| 233M/233M [00:01<00:00, 127MB/s]\n"
          ]
        }
      ],
      "source": [
        "import torchvision.models\n",
        "alexnet = torchvision.models.alexnet(pretrained=True)"
      ]
    },
    {
      "cell_type": "code",
      "execution_count": 59,
      "metadata": {
        "id": "BVmPED8h3zIo"
      },
      "outputs": [],
      "source": [
        "import os\n",
        "FEATURE_PATH = '/content/drive/MyDrive/APS360 Project/features/'\n",
        "\n",
        "def alexnet_features(data_loader, path):\n",
        "  n=0\n",
        "  for img, label in iter(data_loader):\n",
        "    features = alexnet.features(img)\n",
        "    features = torch.from_numpy(features.detach().numpy())\n",
        "\n",
        "    dir_path = path + str(vegetable_classes[label])\n",
        "    try:\n",
        "      os.makedirs(dir_path)\n",
        "    except FileExistsError:\n",
        "      pass\n",
        "    torch.save(features.squeeze(0), dir_path + \"/\" + str(n) + \".tensor\")\n",
        "    n+=1"
      ]
    },
    {
      "cell_type": "code",
      "execution_count": 61,
      "metadata": {
        "id": "Yq1orw8E4jDx"
      },
      "outputs": [],
      "source": [
        "alexnet_features(test_loader, FEATURE_PATH + \"test/\")"
      ]
    },
    {
      "cell_type": "code",
      "execution_count": 42,
      "metadata": {
        "id": "BcBSwQdhCUaf"
      },
      "outputs": [],
      "source": [
        "test_feature_path = FEATURE_PATH + \"test/\""
      ]
    },
    {
      "cell_type": "code",
      "execution_count": 66,
      "metadata": {
        "id": "XIn9d4GB5yCG"
      },
      "outputs": [],
      "source": [
        "alex_test_set = torchvision.datasets.DatasetFolder(FEATURE_PATH + \"test/\", loader=torch.load, extensions=('.tensor'))\n",
        "alex_test_loader = DataLoader(alex_test_set, batch_size = 34, shuffle=True, drop_last=True)"
      ]
    },
    {
      "cell_type": "code",
      "execution_count": 67,
      "metadata": {
        "colab": {
          "base_uri": "https://localhost:8080/"
        },
        "id": "PGuh6FhS2ZTw",
        "outputId": "03faef85-cd5d-4ddb-fb35-75ffbd2b6778"
      },
      "outputs": [
        {
          "name": "stdout",
          "output_type": "stream",
          "text": [
            "Final Test Accuracy:  0.7455882352941177\n"
          ]
        }
      ],
      "source": [
        "use_cuda = True\n",
        "test_acc =  get_accuracy(model, alex_test_loader)\n",
        "print(\"Final Test Accuracy: \", test_acc)"
      ]
    },
    {
      "cell_type": "code",
      "execution_count": 65,
      "metadata": {
        "colab": {
          "base_uri": "https://localhost:8080/"
        },
        "id": "GADit4AvB1Hb",
        "outputId": "b6060360-0f15-416e-8e38-2fd1fa90d985"
      },
      "outputs": [
        {
          "name": "stdout",
          "output_type": "stream",
          "text": [
            "asparagus:\n",
            "\tAccuracy: 87.50%\n",
            "\tMost frequent false postive: celery\n",
            "bell pepper:\n",
            "\tAccuracy: 58.33%\n",
            "\tMost frequent false postive: tomato\n",
            "broccoli:\n",
            "\tAccuracy: 100.00%\n",
            "\tMost frequent false postive: asparagus\n",
            "cabbage:\n",
            "\tAccuracy: 71.43%\n",
            "\tMost frequent false postive: potato\n",
            "carrot:\n",
            "\tAccuracy: 91.43%\n",
            "\tMost frequent false postive: sweet potato\n",
            "celery:\n",
            "\tAccuracy: 14.29%\n",
            "\tMost frequent false postive: asparagus\n",
            "chilli pepper:\n",
            "\tAccuracy: 65.62%\n",
            "\tMost frequent false postive: spinach\n",
            "corn:\n",
            "\tAccuracy: 80.56%\n",
            "\tMost frequent false postive: asparagus\n",
            "cucumber:\n",
            "\tAccuracy: 51.52%\n",
            "\tMost frequent false postive: asparagus\n",
            "eggplant:\n",
            "\tAccuracy: 80.56%\n",
            "\tMost frequent false postive: carrot\n",
            "lettuce:\n",
            "\tAccuracy: 52.50%\n",
            "\tMost frequent false postive: cabbage\n",
            "mushroom:\n",
            "\tAccuracy: 51.52%\n",
            "\tMost frequent false postive: celery\n",
            "onion:\n",
            "\tAccuracy: 94.29%\n",
            "\tMost frequent false postive: mushroom\n",
            "peas:\n",
            "\tAccuracy: 93.94%\n",
            "\tMost frequent false postive: celery\n",
            "potato:\n",
            "\tAccuracy: 100.00%\n",
            "\tMost frequent false postive: asparagus\n",
            "pumpkin:\n",
            "\tAccuracy: 92.31%\n",
            "\tMost frequent false postive: broccoli\n",
            "radish:\n",
            "\tAccuracy: 94.44%\n",
            "\tMost frequent false postive: celery\n",
            "spinach:\n",
            "\tAccuracy: 70.59%\n",
            "\tMost frequent false postive: eggplant\n",
            "sweet potato:\n",
            "\tAccuracy: 72.73%\n",
            "\tMost frequent false postive: mushroom\n",
            "tomato:\n",
            "\tAccuracy: 71.88%\n",
            "\tMost frequent false postive: carrot\n"
          ]
        }
      ],
      "source": [
        "for i, label in enumerate(vegetable_classes):\n",
        "  veggie_path = \"/content/drive/MyDrive/alex_test/\" + label\n",
        "  features = torchvision.datasets.DatasetFolder(veggie_path, loader=torch.load, extensions=('.tensor'))\n",
        "  test_loader = torch.utils.data.DataLoader(features, batch_size=1, shuffle=True)\n",
        "\n",
        "  correct = 0\n",
        "  false_positive = [0]*20\n",
        "  for imgs, labels in test_loader:\n",
        "        #############################################\n",
        "        #To Enable GPU Usage\n",
        "        if torch.cuda.is_available():\n",
        "          imgs = imgs.cuda()\n",
        "          labels = labels.cuda()\n",
        "        #############################################\n",
        "        \n",
        "        \n",
        "        output = model(imgs)\n",
        "        probs = F.softmax(output, dim=1)\n",
        "        _, predicted = torch.max(probs, 1)\n",
        "        # print(predicted.item())\n",
        "\n",
        "        if predicted.item() == i:\n",
        "          correct += 1\n",
        "        else:\n",
        "          false_positive[predicted.item()] += 1\n",
        "\n",
        "  print(vegetable_classes[i] + \":\")\n",
        "  print(f\"\\tAccuracy: {correct/len(test_loader)*100:.2f}%\")\n",
        "  print(f\"\\tMost frequent false postive: {vegetable_classes[np.argmax(false_positive)]}\")"
      ]
    }
  ],
  "metadata": {
    "accelerator": "GPU",
    "colab": {
      "provenance": []
    },
    "gpuClass": "standard",
    "kernelspec": {
      "display_name": "Python 3",
      "name": "python3"
    },
    "language_info": {
      "name": "python"
    }
  },
  "nbformat": 4,
  "nbformat_minor": 0
}
