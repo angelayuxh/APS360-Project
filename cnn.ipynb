{
  "nbformat": 4,
  "nbformat_minor": 0,
  "metadata": {
    "colab": {
      "provenance": []
    },
    "kernelspec": {
      "name": "python3",
      "display_name": "Python 3"
    },
    "language_info": {
      "name": "python"
    },
    "gpuClass": "premium",
    "accelerator": "GPU",
    "widgets": {
      "application/vnd.jupyter.widget-state+json": {
        "3352239e9d36459796fff0dbdf45dd56": {
          "model_module": "@jupyter-widgets/controls",
          "model_name": "HBoxModel",
          "model_module_version": "1.5.0",
          "state": {
            "_dom_classes": [],
            "_model_module": "@jupyter-widgets/controls",
            "_model_module_version": "1.5.0",
            "_model_name": "HBoxModel",
            "_view_count": null,
            "_view_module": "@jupyter-widgets/controls",
            "_view_module_version": "1.5.0",
            "_view_name": "HBoxView",
            "box_style": "",
            "children": [
              "IPY_MODEL_185460bb74404b68ad5c5d977e031015",
              "IPY_MODEL_2a30ac1691b74f3bb84086a2a3552d05",
              "IPY_MODEL_835aa577d97840f8857d7a4ab2eb7e5a"
            ],
            "layout": "IPY_MODEL_67d699786a9c43c4b6f4f9831bb98890"
          }
        },
        "185460bb74404b68ad5c5d977e031015": {
          "model_module": "@jupyter-widgets/controls",
          "model_name": "HTMLModel",
          "model_module_version": "1.5.0",
          "state": {
            "_dom_classes": [],
            "_model_module": "@jupyter-widgets/controls",
            "_model_module_version": "1.5.0",
            "_model_name": "HTMLModel",
            "_view_count": null,
            "_view_module": "@jupyter-widgets/controls",
            "_view_module_version": "1.5.0",
            "_view_name": "HTMLView",
            "description": "",
            "description_tooltip": null,
            "layout": "IPY_MODEL_f8744bd03d4747ce919212f7bac5b134",
            "placeholder": "​",
            "style": "IPY_MODEL_7368f9ee30904bc29f0c33fd32bc2d5a",
            "value": "100%"
          }
        },
        "2a30ac1691b74f3bb84086a2a3552d05": {
          "model_module": "@jupyter-widgets/controls",
          "model_name": "FloatProgressModel",
          "model_module_version": "1.5.0",
          "state": {
            "_dom_classes": [],
            "_model_module": "@jupyter-widgets/controls",
            "_model_module_version": "1.5.0",
            "_model_name": "FloatProgressModel",
            "_view_count": null,
            "_view_module": "@jupyter-widgets/controls",
            "_view_module_version": "1.5.0",
            "_view_name": "ProgressView",
            "bar_style": "success",
            "description": "",
            "description_tooltip": null,
            "layout": "IPY_MODEL_7c2cf326b0a140f0894b8aa652c0fc74",
            "max": 244408911,
            "min": 0,
            "orientation": "horizontal",
            "style": "IPY_MODEL_117d027613214526ac4b8605c01d88e0",
            "value": 244408911
          }
        },
        "835aa577d97840f8857d7a4ab2eb7e5a": {
          "model_module": "@jupyter-widgets/controls",
          "model_name": "HTMLModel",
          "model_module_version": "1.5.0",
          "state": {
            "_dom_classes": [],
            "_model_module": "@jupyter-widgets/controls",
            "_model_module_version": "1.5.0",
            "_model_name": "HTMLModel",
            "_view_count": null,
            "_view_module": "@jupyter-widgets/controls",
            "_view_module_version": "1.5.0",
            "_view_name": "HTMLView",
            "description": "",
            "description_tooltip": null,
            "layout": "IPY_MODEL_9c01fd48a6064d1d86427c2920e549fd",
            "placeholder": "​",
            "style": "IPY_MODEL_4c6d8d5e2bea4b94beadbe04b3cf2aa2",
            "value": " 233M/233M [00:08&lt;00:00, 27.7MB/s]"
          }
        },
        "67d699786a9c43c4b6f4f9831bb98890": {
          "model_module": "@jupyter-widgets/base",
          "model_name": "LayoutModel",
          "model_module_version": "1.2.0",
          "state": {
            "_model_module": "@jupyter-widgets/base",
            "_model_module_version": "1.2.0",
            "_model_name": "LayoutModel",
            "_view_count": null,
            "_view_module": "@jupyter-widgets/base",
            "_view_module_version": "1.2.0",
            "_view_name": "LayoutView",
            "align_content": null,
            "align_items": null,
            "align_self": null,
            "border": null,
            "bottom": null,
            "display": null,
            "flex": null,
            "flex_flow": null,
            "grid_area": null,
            "grid_auto_columns": null,
            "grid_auto_flow": null,
            "grid_auto_rows": null,
            "grid_column": null,
            "grid_gap": null,
            "grid_row": null,
            "grid_template_areas": null,
            "grid_template_columns": null,
            "grid_template_rows": null,
            "height": null,
            "justify_content": null,
            "justify_items": null,
            "left": null,
            "margin": null,
            "max_height": null,
            "max_width": null,
            "min_height": null,
            "min_width": null,
            "object_fit": null,
            "object_position": null,
            "order": null,
            "overflow": null,
            "overflow_x": null,
            "overflow_y": null,
            "padding": null,
            "right": null,
            "top": null,
            "visibility": null,
            "width": null
          }
        },
        "f8744bd03d4747ce919212f7bac5b134": {
          "model_module": "@jupyter-widgets/base",
          "model_name": "LayoutModel",
          "model_module_version": "1.2.0",
          "state": {
            "_model_module": "@jupyter-widgets/base",
            "_model_module_version": "1.2.0",
            "_model_name": "LayoutModel",
            "_view_count": null,
            "_view_module": "@jupyter-widgets/base",
            "_view_module_version": "1.2.0",
            "_view_name": "LayoutView",
            "align_content": null,
            "align_items": null,
            "align_self": null,
            "border": null,
            "bottom": null,
            "display": null,
            "flex": null,
            "flex_flow": null,
            "grid_area": null,
            "grid_auto_columns": null,
            "grid_auto_flow": null,
            "grid_auto_rows": null,
            "grid_column": null,
            "grid_gap": null,
            "grid_row": null,
            "grid_template_areas": null,
            "grid_template_columns": null,
            "grid_template_rows": null,
            "height": null,
            "justify_content": null,
            "justify_items": null,
            "left": null,
            "margin": null,
            "max_height": null,
            "max_width": null,
            "min_height": null,
            "min_width": null,
            "object_fit": null,
            "object_position": null,
            "order": null,
            "overflow": null,
            "overflow_x": null,
            "overflow_y": null,
            "padding": null,
            "right": null,
            "top": null,
            "visibility": null,
            "width": null
          }
        },
        "7368f9ee30904bc29f0c33fd32bc2d5a": {
          "model_module": "@jupyter-widgets/controls",
          "model_name": "DescriptionStyleModel",
          "model_module_version": "1.5.0",
          "state": {
            "_model_module": "@jupyter-widgets/controls",
            "_model_module_version": "1.5.0",
            "_model_name": "DescriptionStyleModel",
            "_view_count": null,
            "_view_module": "@jupyter-widgets/base",
            "_view_module_version": "1.2.0",
            "_view_name": "StyleView",
            "description_width": ""
          }
        },
        "7c2cf326b0a140f0894b8aa652c0fc74": {
          "model_module": "@jupyter-widgets/base",
          "model_name": "LayoutModel",
          "model_module_version": "1.2.0",
          "state": {
            "_model_module": "@jupyter-widgets/base",
            "_model_module_version": "1.2.0",
            "_model_name": "LayoutModel",
            "_view_count": null,
            "_view_module": "@jupyter-widgets/base",
            "_view_module_version": "1.2.0",
            "_view_name": "LayoutView",
            "align_content": null,
            "align_items": null,
            "align_self": null,
            "border": null,
            "bottom": null,
            "display": null,
            "flex": null,
            "flex_flow": null,
            "grid_area": null,
            "grid_auto_columns": null,
            "grid_auto_flow": null,
            "grid_auto_rows": null,
            "grid_column": null,
            "grid_gap": null,
            "grid_row": null,
            "grid_template_areas": null,
            "grid_template_columns": null,
            "grid_template_rows": null,
            "height": null,
            "justify_content": null,
            "justify_items": null,
            "left": null,
            "margin": null,
            "max_height": null,
            "max_width": null,
            "min_height": null,
            "min_width": null,
            "object_fit": null,
            "object_position": null,
            "order": null,
            "overflow": null,
            "overflow_x": null,
            "overflow_y": null,
            "padding": null,
            "right": null,
            "top": null,
            "visibility": null,
            "width": null
          }
        },
        "117d027613214526ac4b8605c01d88e0": {
          "model_module": "@jupyter-widgets/controls",
          "model_name": "ProgressStyleModel",
          "model_module_version": "1.5.0",
          "state": {
            "_model_module": "@jupyter-widgets/controls",
            "_model_module_version": "1.5.0",
            "_model_name": "ProgressStyleModel",
            "_view_count": null,
            "_view_module": "@jupyter-widgets/base",
            "_view_module_version": "1.2.0",
            "_view_name": "StyleView",
            "bar_color": null,
            "description_width": ""
          }
        },
        "9c01fd48a6064d1d86427c2920e549fd": {
          "model_module": "@jupyter-widgets/base",
          "model_name": "LayoutModel",
          "model_module_version": "1.2.0",
          "state": {
            "_model_module": "@jupyter-widgets/base",
            "_model_module_version": "1.2.0",
            "_model_name": "LayoutModel",
            "_view_count": null,
            "_view_module": "@jupyter-widgets/base",
            "_view_module_version": "1.2.0",
            "_view_name": "LayoutView",
            "align_content": null,
            "align_items": null,
            "align_self": null,
            "border": null,
            "bottom": null,
            "display": null,
            "flex": null,
            "flex_flow": null,
            "grid_area": null,
            "grid_auto_columns": null,
            "grid_auto_flow": null,
            "grid_auto_rows": null,
            "grid_column": null,
            "grid_gap": null,
            "grid_row": null,
            "grid_template_areas": null,
            "grid_template_columns": null,
            "grid_template_rows": null,
            "height": null,
            "justify_content": null,
            "justify_items": null,
            "left": null,
            "margin": null,
            "max_height": null,
            "max_width": null,
            "min_height": null,
            "min_width": null,
            "object_fit": null,
            "object_position": null,
            "order": null,
            "overflow": null,
            "overflow_x": null,
            "overflow_y": null,
            "padding": null,
            "right": null,
            "top": null,
            "visibility": null,
            "width": null
          }
        },
        "4c6d8d5e2bea4b94beadbe04b3cf2aa2": {
          "model_module": "@jupyter-widgets/controls",
          "model_name": "DescriptionStyleModel",
          "model_module_version": "1.5.0",
          "state": {
            "_model_module": "@jupyter-widgets/controls",
            "_model_module_version": "1.5.0",
            "_model_name": "DescriptionStyleModel",
            "_view_count": null,
            "_view_module": "@jupyter-widgets/base",
            "_view_module_version": "1.2.0",
            "_view_name": "StyleView",
            "description_width": ""
          }
        }
      }
    }
  },
  "cells": [
    {
      "cell_type": "code",
      "source": [
        "from google.colab import drive\n",
        "drive.mount('/content/drive', force_remount=True)\n",
        "# NOTE: Make a shortcut to APS360 Project folder in your MyDrive\n",
        "DATA_PATH = '/content/drive/MyDrive/APS360 Project/vegetable dataset'"
      ],
      "metadata": {
        "colab": {
          "base_uri": "https://localhost:8080/"
        },
        "id": "lQkm3wgRPYZT",
        "outputId": "54e55293-b3df-4678-ac77-87d4bc820975"
      },
      "execution_count": 1,
      "outputs": [
        {
          "output_type": "stream",
          "name": "stdout",
          "text": [
            "Mounted at /content/drive\n"
          ]
        }
      ]
    },
    {
      "cell_type": "code",
      "source": [
        "import torch\n",
        "import torch.nn as nn\n",
        "import torch.nn.functional as F\n",
        "import torchvision\n",
        "from torchvision import datasets, transforms\n",
        "import matplotlib.pyplot as plt # for plotting\n",
        "\n",
        "import torch.optim as optim\n",
        "\n",
        "training_set_path = DATA_PATH + '/training'\n",
        "validation_set_path = DATA_PATH + '/validation'\n",
        "test_set_path = DATA_PATH + '/test'\n",
        "\n",
        "\n",
        "# Transform Settings\n",
        "data_transform = transforms.Compose([\n",
        "    transforms.Resize((224, 224)),\n",
        "    transforms.ToTensor(),\n",
        "    transforms.Normalize(\n",
        "        mean=[0.5, 0.5, 0.5],\n",
        "        std=[0.5, 0.5, 0.5]\n",
        "    )\n",
        "])\n",
        "training_dataset = datasets.ImageFolder(training_set_path, transform=data_transform)\n",
        "validation_dataset = datasets.ImageFolder(validation_set_path, transform=data_transform)\n",
        "# test_dataset = datasets.ImageFolder(test_set_path, transform=data_transform)\n",
        "\n",
        "print(\"Number of training images:\", len(training_dataset))\n",
        "print(\"Number of validation images:\", len(validation_dataset))\n",
        "# print(\"Number of test images:\", len(test_dataset))"
      ],
      "metadata": {
        "colab": {
          "base_uri": "https://localhost:8080/"
        },
        "id": "pnkR_tFtXySY",
        "outputId": "81e7c3d9-ceec-47b4-ba0e-aaa23a4ca030"
      },
      "execution_count": 2,
      "outputs": [
        {
          "output_type": "stream",
          "name": "stdout",
          "text": [
            "Number of training images: 2016\n",
            "Number of validation images: 677\n"
          ]
        }
      ]
    },
    {
      "cell_type": "code",
      "execution_count": 3,
      "metadata": {
        "colab": {
          "base_uri": "https://localhost:8080/",
          "height": 156,
          "referenced_widgets": [
            "3352239e9d36459796fff0dbdf45dd56",
            "185460bb74404b68ad5c5d977e031015",
            "2a30ac1691b74f3bb84086a2a3552d05",
            "835aa577d97840f8857d7a4ab2eb7e5a",
            "67d699786a9c43c4b6f4f9831bb98890",
            "f8744bd03d4747ce919212f7bac5b134",
            "7368f9ee30904bc29f0c33fd32bc2d5a",
            "7c2cf326b0a140f0894b8aa652c0fc74",
            "117d027613214526ac4b8605c01d88e0",
            "9c01fd48a6064d1d86427c2920e549fd",
            "4c6d8d5e2bea4b94beadbe04b3cf2aa2"
          ]
        },
        "id": "j1yqx1NbElZw",
        "outputId": "d194c940-209e-45b2-d38a-9c34b771abdd"
      },
      "outputs": [
        {
          "output_type": "stream",
          "name": "stderr",
          "text": [
            "/usr/local/lib/python3.9/dist-packages/torchvision/models/_utils.py:208: UserWarning: The parameter 'pretrained' is deprecated since 0.13 and may be removed in the future, please use 'weights' instead.\n",
            "  warnings.warn(\n",
            "/usr/local/lib/python3.9/dist-packages/torchvision/models/_utils.py:223: UserWarning: Arguments other than a weight enum or `None` for 'weights' are deprecated since 0.13 and may be removed in the future. The current behavior is equivalent to passing `weights=AlexNet_Weights.IMAGENET1K_V1`. You can also use `weights=AlexNet_Weights.DEFAULT` to get the most up-to-date weights.\n",
            "  warnings.warn(msg)\n",
            "Downloading: \"https://download.pytorch.org/models/alexnet-owt-7be5be79.pth\" to /root/.cache/torch/hub/checkpoints/alexnet-owt-7be5be79.pth\n"
          ]
        },
        {
          "output_type": "display_data",
          "data": {
            "text/plain": [
              "  0%|          | 0.00/233M [00:00<?, ?B/s]"
            ],
            "application/vnd.jupyter.widget-view+json": {
              "version_major": 2,
              "version_minor": 0,
              "model_id": "3352239e9d36459796fff0dbdf45dd56"
            }
          },
          "metadata": {}
        }
      ],
      "source": [
        "import torchvision.models\n",
        "alexnet = torchvision.models.alexnet(pretrained=True).cuda()"
      ]
    },
    {
      "cell_type": "code",
      "source": [
        "import os\n",
        "from torch.utils.data.dataloader import DataLoader\n",
        "useCuda = True\n",
        "\n",
        "train_loader = torch.utils.data.DataLoader(training_dataset, batch_size=1, shuffle=True)\n",
        "validation_loader = torch.utils.data.DataLoader(validation_dataset, batch_size=1, shuffle=True)\n",
        "# test_loader = torch.utils.data.DataLoader(testing_dataset, batch_size=1, shuffle=True)\n",
        "\n",
        "FEATURE_PATH = '/content/drive/MyDrive/APS360 Project/alexnet_features'\n",
        "\n",
        "classes = [\n",
        "    'asparagus',\n",
        "    'bell pepper',\n",
        "    'broccoli',\n",
        "    'cabbage',\n",
        "    'carrot',\n",
        "    'celery',\n",
        "    'chilli pepper',\n",
        "    'corn',\n",
        "    'cucumber',\n",
        "    'eggplant',\n",
        "    'lettuce',\n",
        "    'mushroom',\n",
        "    'onion',\n",
        "    'peas',\n",
        "    'potato',\n",
        "    'pumpkin',\n",
        "    'raddish',\n",
        "    'spinach',\n",
        "    'sweet potato',\n",
        "    'tomato'\n",
        "]\n",
        "\n",
        "training_feature_path = FEATURE_PATH + '/training/'\n",
        "validation_feature_path = FEATURE_PATH + '/validation/'\n",
        "\n",
        "n=0\n",
        "for img, label in train_loader:\n",
        "  features = alexnet.features(img.cuda())\n",
        "  tensor = torch.from_numpy(features.detach().cpu().numpy())\n",
        "  torch.save(tensor.squeeze(0), training_feature_path + str(classes[label.cuda()]) + '/' + str(n) + '.tensor')\n",
        "  n+=1\n",
        "\n",
        "n=0\n",
        "for img, label in validation_loader:\n",
        "  features = alexnet.features(img.cuda())\n",
        "  tensor = torch.from_numpy(features.detach().cpu().numpy())\n",
        "  torch.save(tensor.squeeze(0), validation_feature_path + str(classes[label.cuda()]) + '/' + str(n) + '.tensor')\n",
        "  n+=1\n",
        "\n",
        "# test_path = '/content/drive/MyDrive/Lab 3/Test_Set_Features/'\n",
        "# n=0\n",
        "# for img, label in test_loader:\n",
        "#   features = alexnet.features(img)\n",
        "#   tensor = torch.from_numpy(features.detach().numpy())\n",
        "#   torch.save(tensor.squeeze(0), test_path + str(classes[label]) + '/' + str(n) + '.tensor')\n",
        "#   n+=1\n"
      ],
      "metadata": {
        "id": "ON_EIYph4ioC"
      },
      "execution_count": 8,
      "outputs": []
    },
    {
      "cell_type": "code",
      "source": [
        "class AlexNetCNN(nn.Module):\n",
        "    def __init__(self):\n",
        "        super(AlexNetCNN, self).__init__()\n",
        "        self.name = \"AlexNetCNN\"\n",
        "        self.conv1 = nn.Conv2d(256, 256, 5)\n",
        "        self.pool = nn.MaxPool2d(2, 2)\n",
        "        self.fc1 = nn.Linear(256 * 1 * 1, 20)\n",
        "\n",
        "    def forward(self, x):\n",
        "        x = self.pool(F.relu(self.conv1(x)))\n",
        "        x = x.view(-1, 256 * 1 * 1)\n",
        "        x = self.fc1(x)\n",
        "        return x"
      ],
      "metadata": {
        "id": "_tZJV5DZgqWU"
      },
      "execution_count": 9,
      "outputs": []
    },
    {
      "cell_type": "code",
      "source": [
        "FEATURE_PATH = '/content/drive/MyDrive/APS360 Project/alexnet_features'\n",
        "\n",
        "training_feature_path = FEATURE_PATH + '/training'\n",
        "validation_feature_path = FEATURE_PATH + '/validation'\n",
        "\n",
        "\n",
        "training_features = torchvision.datasets.DatasetFolder(training_feature_path, loader=torch.load, extensions=('.tensor'))\n",
        "\n",
        "validation_features = torchvision.datasets.DatasetFolder(validation_feature_path, loader=torch.load, extensions=('.tensor'))\n",
        "\n",
        "# test_features = torchvision.datasets.DatasetFolder(test_path, loader=torch.load, extensions=('.tensor'))"
      ],
      "metadata": {
        "id": "PJxAEBd9h3nq"
      },
      "execution_count": 13,
      "outputs": []
    },
    {
      "cell_type": "code",
      "source": [
        "def get_accuracy_alex(model, train_loader, valid_loader, train=False):\n",
        "    use_cuda = True\n",
        "    if train:\n",
        "        data = train_loader\n",
        "    else:\n",
        "        data = valid_loader\n",
        "\n",
        "    correct = 0\n",
        "    total = 0\n",
        "    for imgs, labels in data:    \n",
        "        #############################################\n",
        "        #To Enable GPU Usage\n",
        "        if use_cuda and torch.cuda.is_available():\n",
        "          imgs = imgs.cuda()\n",
        "          labels = labels.cuda()\n",
        "        #############################################\n",
        "        \n",
        "        \n",
        "        output = model(imgs)\n",
        "        \n",
        "        #select index with maximum prediction score\n",
        "        pred = output.max(1, keepdim=True)[1]\n",
        "        correct += pred.eq(labels.view_as(pred)).sum().item()\n",
        "        total += imgs.shape[0]\n",
        "    return correct / total"
      ],
      "metadata": {
        "id": "a8g-KxRNjAut"
      },
      "execution_count": 14,
      "outputs": []
    },
    {
      "cell_type": "code",
      "source": [
        "def train_alex(model, train_dataset, valid_dataset, batch_size=64, learning_rate=0.001, num_epochs=1):\n",
        "    # Prepare Dataloader\n",
        "    use_cuda = True\n",
        "    train_loader = torch.utils.data.DataLoader(train_dataset, batch_size=batch_size, shuffle=True)\n",
        "    valid_loader = torch.utils.data.DataLoader(valid_dataset, batch_size=batch_size, shuffle=True)     \n",
        "\n",
        "    criterion = nn.CrossEntropyLoss()\n",
        "    optimizer = optim.SGD(model.parameters(), lr=learning_rate, momentum=0.9)\n",
        "    iters, losses, train_acc, val_acc = [], [], [], []\n",
        "\n",
        "    # training\n",
        "    epoch = 0 # the number of iterations\n",
        "    for epoch in range(num_epochs):\n",
        "        for features, labels in iter(train_loader):\n",
        "          \n",
        "            #############################################\n",
        "            #To Enable GPU Usage\n",
        "            if use_cuda and torch.cuda.is_available():\n",
        "              features = features.cuda()\n",
        "              labels = labels.cuda()\n",
        "            #############################################\n",
        "            \n",
        "            \n",
        "            out = model(features)      # forward pass\n",
        "            loss = criterion(out, labels) # compute the total loss\n",
        "            loss.backward()               # backward pass (compute parameter updates)\n",
        "            optimizer.step()              # make the updates for each parameter\n",
        "            optimizer.zero_grad()         # a clean up step for PyTorch\n",
        "\n",
        "\n",
        "        # save the current training information\n",
        "        iters.append(epoch)\n",
        "        losses.append(float(loss)/batch_size)             # compute *average* loss\n",
        "        train_acc.append(get_accuracy_alex(model, train_loader, valid_loader, train=True)) # compute training accuracy\n",
        "        val_acc.append(get_accuracy_alex(model, train_loader, valid_loader, train=False))  # compute validation accuracy\n",
        "        print((\"Epoch {}: Train acc: {} |\"+\"Validation acc: {}\").format(epoch + 1,train_acc[-1],val_acc[-1]))\n",
        "        torch.save(model.state_dict(), \"saved_model\")\n",
        "      \n",
        "    # plotting\n",
        "    plt.title(\"Training Curve\")\n",
        "    plt.plot(iters, losses, label=\"Train\")\n",
        "    plt.xlabel(\"Iterations\")\n",
        "    plt.ylabel(\"Loss\")\n",
        "    plt.show()\n",
        "\n",
        "    plt.title(\"Training Curve\")\n",
        "    plt.plot(iters, train_acc, label=\"Train\")\n",
        "    plt.plot(iters, val_acc, label=\"Validation\")\n",
        "    plt.xlabel(\"Iterations\")\n",
        "    plt.ylabel(\"Training Accuracy\") \n",
        "    plt.legend(loc='best')\n",
        "    plt.show()\n",
        "\n",
        "    print(\"Final Training Accuracy: {}\".format(train_acc[-1]))\n",
        "    print(\"Final Validation Accuracy: {}\".format(val_acc[-1]))"
      ],
      "metadata": {
        "id": "XexsMfqAjB4e"
      },
      "execution_count": 15,
      "outputs": []
    },
    {
      "cell_type": "code",
      "source": [
        "best_alex_model = AlexNetCNN()\n",
        "\n",
        "best_alex_model.cuda()\n",
        "\n",
        "train_alex(best_alex_model, training_features, validation_features, learning_rate=0.0001, batch_size=128, num_epochs=10)"
      ],
      "metadata": {
        "id": "gO769pabncCG",
        "colab": {
          "base_uri": "https://localhost:8080/",
          "height": 781
        },
        "outputId": "fc82e18f-e491-40c9-bc75-bec47f122f96"
      },
      "execution_count": 16,
      "outputs": [
        {
          "output_type": "stream",
          "name": "stdout",
          "text": [
            "Epoch 1: Train acc: 0.08560118753092529 |Validation acc: 0.08645533141210375\n",
            "Epoch 2: Train acc: 0.24542305789213262 |Validation acc: 0.2132564841498559\n",
            "Epoch 3: Train acc: 0.39485403265710045 |Validation acc: 0.34293948126801155\n",
            "Epoch 4: Train acc: 0.48540326571004455 |Validation acc: 0.4423631123919308\n",
            "Epoch 5: Train acc: 0.5517070757050965 |Validation acc: 0.5\n",
            "Epoch 6: Train acc: 0.5937654626422563 |Validation acc: 0.5302593659942363\n",
            "Epoch 7: Train acc: 0.6506679861454725 |Validation acc: 0.5720461095100865\n",
            "Epoch 8: Train acc: 0.6838198911429986 |Validation acc: 0.6152737752161384\n",
            "Epoch 9: Train acc: 0.7199406234537358 |Validation acc: 0.6642651296829971\n",
            "Epoch 10: Train acc: 0.7431964374072242 |Validation acc: 0.6844380403458213\n"
          ]
        },
        {
          "output_type": "display_data",
          "data": {
            "text/plain": [
              "<Figure size 432x288 with 1 Axes>"
            ],
            "image/png": "[encoded data removed]"
          },
          "metadata": {
            "needs_background": "light"
          }
        },
        {
          "output_type": "display_data",
          "data": {
            "text/plain": [
              "<Figure size 432x288 with 1 Axes>"
            ],
            "image/png": "[encoded data removed]"
          },
          "metadata": {
            "needs_background": "light"
          }
        },
        {
          "output_type": "stream",
          "name": "stdout",
          "text": [
            "Final Training Accuracy: 0.7431964374072242\n",
            "Final Validation Accuracy: 0.6844380403458213\n"
          ]
        }
      ]
    }
  ]
}