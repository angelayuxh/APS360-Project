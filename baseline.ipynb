{
  "cells": [
    {
      "cell_type": "code",
      "execution_count": null,
      "metadata": {
        "colab": {
          "base_uri": "https://localhost:8080/"
        },
        "id": "EF_j1QLXuqZU",
        "outputId": "cdeaf78c-9c2f-457e-ff88-2d643d5bf307"
      },
      "outputs": [
        {
          "name": "stdout",
          "output_type": "stream",
          "text": [
            "Mounted at /content/drive\n"
          ]
        }
      ],
      "source": [
        "from google.colab import drive\n",
        "drive.mount('/content/drive')"
      ]
    },
    {
      "cell_type": "code",
      "execution_count": null,
      "metadata": {
        "id": "V_R2JjNpuubw"
      },
      "outputs": [],
      "source": [
        "import numpy as np\n",
        "import matplotlib.pyplot as plt\n",
        "import cv2\n",
        "import os\n",
        "import glob\n",
        "\n",
        "from sklearn.ensemble import RandomForestClassifier"
      ]
    },
    {
      "cell_type": "code",
      "execution_count": null,
      "metadata": {
        "id": "PgtH50KwuwxF"
      },
      "outputs": [],
      "source": [
        "np.random.seed(1000)\n",
        "\n",
        "# data already split into train, validation, test\n",
        "data_dir = \"/content/drive/MyDrive/APS360 Project/vegetable dataset/\"\n",
        "train_dir = data_dir + \"training/\"\n",
        "valid_dir = data_dir + \"validation/\"\n",
        "test_dir = data_dir + \"test/\"\n",
        "\n",
        "# 20 vegetable classes\n",
        "vegetable_classes = ['asparagus', 'bell pepper', 'broccoli', 'cabbage', 'carrot', 'celery', 'chilli pepper', 'corn', 'cucumber', 'eggplant', \n",
        "                     'lettuce', 'mushroom', 'onion', 'peas', 'potato', 'pumpkin', 'raddish', 'spinach', 'sweet potato', 'tomato']"
      ]
    },
    {
      "cell_type": "code",
      "execution_count": null,
      "metadata": {
        "id": "sOZ_fv424qKS"
      },
      "outputs": [],
      "source": [
        "# convert string class names to int\n",
        "def word_to_index(label, classes):\n",
        "  for i, word in enumerate(classes):\n",
        "    if word == label:\n",
        "      return i\n",
        "  \n",
        "  return None;"
      ]
    },
    {
      "cell_type": "code",
      "execution_count": null,
      "metadata": {
        "id": "KPbBDiHZ0oou"
      },
      "outputs": [],
      "source": [
        "def rescale_img(img, label, image_file):\n",
        "  width = 64\n",
        "  height = 64\n",
        "  dim = (width, height)\n",
        "  try:\n",
        "    resized = cv2.resize(img, dim, interpolation = cv2.INTER_AREA)\n",
        "    return resized\n",
        "  except:\n",
        "    print(label)\n",
        "    print(image_file)\n",
        "    return img"
      ]
    },
    {
      "cell_type": "code",
      "execution_count": null,
      "metadata": {
        "id": "0a0YfMqSbS4R"
      },
      "outputs": [],
      "source": [
        "# random forest wants nparrays as input\n",
        "train_data = []\n",
        "train_labels = []"
      ]
    },
    {
      "cell_type": "code",
      "execution_count": null,
      "metadata": {
        "id": "5Z_BRhVRQ5BB"
      },
      "outputs": [],
      "source": [
        "test_data = []\n",
        "test_labels = []"
      ]
    },
    {
      "cell_type": "code",
      "execution_count": null,
      "metadata": {
        "colab": {
          "base_uri": "https://localhost:8080/"
        },
        "id": "6uLLrMfY4pud",
        "outputId": "dc915a58-abab-4755-a72d-366ca1a1389a"
      },
      "outputs": [
        {
          "name": "stdout",
          "output_type": "stream",
          "text": [
            "1\n",
            "bell pepper ok\n",
            "2\n",
            "broccoli ok\n",
            "3\n",
            "cabbage ok\n",
            "4\n",
            "carrot ok\n",
            "6\n",
            "chilli pepper ok\n",
            "7\n",
            "corn ok\n",
            "8\n",
            "cucumber ok\n",
            "9\n",
            "eggplant ok\n",
            "10\n",
            "lettuce ok\n",
            "12\n",
            "onion ok\n",
            "13\n",
            "peas ok\n",
            "14\n",
            "potato ok\n",
            "16\n",
            "raddish ok\n",
            "17\n",
            "spinach ok\n",
            "18\n",
            "sweet potato ok\n",
            "19\n",
            "tomato ok\n",
            "11\n",
            "mushroom ok\n",
            "0\n",
            "asparagus ok\n",
            "5\n",
            "celery ok\n",
            "15\n",
            "pumpkin ok\n"
          ]
        }
      ],
      "source": [
        "for label in os.listdir(test_dir):\n",
        "  image_files = glob.glob(test_dir + label + \"/*.jpg\") + glob.glob(test_dir + label + \"/*.jpeg\") + glob.glob(test_dir + label + \"/*.png\") + glob.glob(test_dir + label + \"/*.JPG\")\n",
        "  i = word_to_index(label, vegetable_classes)\n",
        "  print(i)\n",
        "  if(i == None):\n",
        "    print(label)\n",
        "  \n",
        "  for j, image_file in enumerate(image_files):\n",
        "    if j!=0 and j%32 == 0:\n",
        "      print(label + \" ok\")\n",
        "    img = cv2.imread(image_file)\n",
        "    img = rescale_img(img, label, image_file)\n",
        "    img = img.flatten()\n",
        "    img = img.tolist()\n",
        "    test_data.append(img)\n",
        "    test_labels.append(i)\n",
        "\n",
        "test_data = np.array(test_data)"
      ]
    },
    {
      "cell_type": "code",
      "execution_count": null,
      "metadata": {
        "colab": {
          "base_uri": "https://localhost:8080/"
        },
        "id": "xE_iLbGZQSW5",
        "outputId": "0746681f-6ab9-4e35-ea69-8c592b5d56f4"
      },
      "outputs": [
        {
          "name": "stdout",
          "output_type": "stream",
          "text": [
            "1\n",
            "bell pepper ok\n",
            "2\n",
            "broccoli ok\n",
            "3\n",
            "cabbage ok\n",
            "4\n",
            "carrot ok\n",
            "6\n",
            "chilli pepper ok\n",
            "7\n",
            "corn ok\n",
            "8\n",
            "cucumber ok\n",
            "9\n",
            "eggplant ok\n",
            "10\n",
            "12\n",
            "onion ok\n",
            "13\n",
            "peas ok\n",
            "14\n",
            "potato ok\n",
            "15\n",
            "pumpkin ok\n",
            "16\n",
            "raddish ok\n",
            "17\n",
            "spinach ok\n",
            "18\n",
            "19\n",
            "tomato ok\n",
            "11\n",
            "mushroom ok\n",
            "0\n",
            "asparagus ok\n",
            "5\n",
            "celery ok\n"
          ]
        }
      ],
      "source": [
        "for label in os.listdir(train_dir):\n",
        "  image_files = glob.glob(train_dir + label + \"/*.jpg\") + glob.glob(train_dir + label + \"/*.jpeg\") + glob.glob(train_dir + label + \"/*.png\") + glob.glob(train_dir + label + \"/*.JPG\")\n",
        "  i = word_to_index(label, vegetable_classes)\n",
        "  print(i)\n",
        "  if(i == None):\n",
        "    print(label)\n",
        "\n",
        "  for j, image_file in enumerate(image_files):\n",
        "    if j!=0 and j%99 == 0:\n",
        "      print(label + \" ok\")\n",
        "    img = cv2.imread(image_file)\n",
        "    img = rescale_img(img, label, image_file)\n",
        "    img = img.flatten()\n",
        "    img = img.tolist()\n",
        "    train_data.append(img)\n",
        "    train_labels.append(i)\n",
        "\n",
        "train_data = np.array(train_data)"
      ]
    },
    {
      "cell_type": "code",
      "execution_count": null,
      "metadata": {
        "colab": {
          "base_uri": "https://localhost:8080/"
        },
        "id": "xzsTDgGo6Zt7",
        "outputId": "971a4f20-82f1-4fe7-a4bd-ed3fedc4f985"
      },
      "outputs": [
        {
          "data": {
            "text/plain": [
              "(2016, 12288)"
            ]
          },
          "execution_count": 11,
          "metadata": {},
          "output_type": "execute_result"
        }
      ],
      "source": [
        "train_data.shape"
      ]
    },
    {
      "cell_type": "code",
      "execution_count": null,
      "metadata": {
        "colab": {
          "base_uri": "https://localhost:8080/",
          "height": 75
        },
        "id": "eHGvrCdxtRv2",
        "outputId": "a4c47053-8aa0-4347-9bbb-8a0e4937164b"
      },
      "outputs": [
        {
          "data": {
            "text/html": [
              "<style>#sk-container-id-1 {color: black;background-color: white;}#sk-container-id-1 pre{padding: 0;}#sk-container-id-1 div.sk-toggleable {background-color: white;}#sk-container-id-1 label.sk-toggleable__label {cursor: pointer;display: block;width: 100%;margin-bottom: 0;padding: 0.3em;box-sizing: border-box;text-align: center;}#sk-container-id-1 label.sk-toggleable__label-arrow:before {content: \"▸\";float: left;margin-right: 0.25em;color: #696969;}#sk-container-id-1 label.sk-toggleable__label-arrow:hover:before {color: black;}#sk-container-id-1 div.sk-estimator:hover label.sk-toggleable__label-arrow:before {color: black;}#sk-container-id-1 div.sk-toggleable__content {max-height: 0;max-width: 0;overflow: hidden;text-align: left;background-color: #f0f8ff;}#sk-container-id-1 div.sk-toggleable__content pre {margin: 0.2em;color: black;border-radius: 0.25em;background-color: #f0f8ff;}#sk-container-id-1 input.sk-toggleable__control:checked~div.sk-toggleable__content {max-height: 200px;max-width: 100%;overflow: auto;}#sk-container-id-1 input.sk-toggleable__control:checked~label.sk-toggleable__label-arrow:before {content: \"▾\";}#sk-container-id-1 div.sk-estimator input.sk-toggleable__control:checked~label.sk-toggleable__label {background-color: #d4ebff;}#sk-container-id-1 div.sk-label input.sk-toggleable__control:checked~label.sk-toggleable__label {background-color: #d4ebff;}#sk-container-id-1 input.sk-hidden--visually {border: 0;clip: rect(1px 1px 1px 1px);clip: rect(1px, 1px, 1px, 1px);height: 1px;margin: -1px;overflow: hidden;padding: 0;position: absolute;width: 1px;}#sk-container-id-1 div.sk-estimator {font-family: monospace;background-color: #f0f8ff;border: 1px dotted black;border-radius: 0.25em;box-sizing: border-box;margin-bottom: 0.5em;}#sk-container-id-1 div.sk-estimator:hover {background-color: #d4ebff;}#sk-container-id-1 div.sk-parallel-item::after {content: \"\";width: 100%;border-bottom: 1px solid gray;flex-grow: 1;}#sk-container-id-1 div.sk-label:hover label.sk-toggleable__label {background-color: #d4ebff;}#sk-container-id-1 div.sk-serial::before {content: \"\";position: absolute;border-left: 1px solid gray;box-sizing: border-box;top: 0;bottom: 0;left: 50%;z-index: 0;}#sk-container-id-1 div.sk-serial {display: flex;flex-direction: column;align-items: center;background-color: white;padding-right: 0.2em;padding-left: 0.2em;position: relative;}#sk-container-id-1 div.sk-item {position: relative;z-index: 1;}#sk-container-id-1 div.sk-parallel {display: flex;align-items: stretch;justify-content: center;background-color: white;position: relative;}#sk-container-id-1 div.sk-item::before, #sk-container-id-1 div.sk-parallel-item::before {content: \"\";position: absolute;border-left: 1px solid gray;box-sizing: border-box;top: 0;bottom: 0;left: 50%;z-index: -1;}#sk-container-id-1 div.sk-parallel-item {display: flex;flex-direction: column;z-index: 1;position: relative;background-color: white;}#sk-container-id-1 div.sk-parallel-item:first-child::after {align-self: flex-end;width: 50%;}#sk-container-id-1 div.sk-parallel-item:last-child::after {align-self: flex-start;width: 50%;}#sk-container-id-1 div.sk-parallel-item:only-child::after {width: 0;}#sk-container-id-1 div.sk-dashed-wrapped {border: 1px dashed gray;margin: 0 0.4em 0.5em 0.4em;box-sizing: border-box;padding-bottom: 0.4em;background-color: white;}#sk-container-id-1 div.sk-label label {font-family: monospace;font-weight: bold;display: inline-block;line-height: 1.2em;}#sk-container-id-1 div.sk-label-container {text-align: center;}#sk-container-id-1 div.sk-container {/* jupyter's `normalize.less` sets `[hidden] { display: none; }` but bootstrap.min.css set `[hidden] { display: none !important; }` so we also need the `!important` here to be able to override the default hidden behavior on the sphinx rendered scikit-learn.org. See: https://github.com/scikit-learn/scikit-learn/issues/21755 */display: inline-block !important;position: relative;}#sk-container-id-1 div.sk-text-repr-fallback {display: none;}</style><div id=\"sk-container-id-1\" class=\"sk-top-container\"><div class=\"sk-text-repr-fallback\"><pre>RandomForestClassifier(n_estimators=250)</pre><b>In a Jupyter environment, please rerun this cell to show the HTML representation or trust the notebook. <br />On GitHub, the HTML representation is unable to render, please try loading this page with nbviewer.org.</b></div><div class=\"sk-container\" hidden><div class=\"sk-item\"><div class=\"sk-estimator sk-toggleable\"><input class=\"sk-toggleable__control sk-hidden--visually\" id=\"sk-estimator-id-1\" type=\"checkbox\" checked><label for=\"sk-estimator-id-1\" class=\"sk-toggleable__label sk-toggleable__label-arrow\">RandomForestClassifier</label><div class=\"sk-toggleable__content\"><pre>RandomForestClassifier(n_estimators=250)</pre></div></div></div></div></div>"
            ],
            "text/plain": [
              "RandomForestClassifier(n_estimators=250)"
            ]
          },
          "execution_count": 13,
          "metadata": {},
          "output_type": "execute_result"
        }
      ],
      "source": [
        "# Random Forest\n",
        "model = RandomForestClassifier(n_estimators=250)\n",
        "\n",
        "# Fit the model to training data\n",
        "model.fit(train_data, train_labels)"
      ]
    },
    {
      "cell_type": "code",
      "execution_count": 1,
      "metadata": {
        "colab": {
          "base_uri": "https://localhost:8080/"
        },
        "id": "uDtdqiitdDPa",
        "outputId": "17b273b8-7657-449d-823d-c41701232f42"
      },
      "outputs": [
        {
          "output_type": "stream",
          "name": "stdout",
          "text": [
            "Random Forest Test Accruacy: 60.12%\n"
          ]
        }
      ],
      "source": [
        "# Make predictions\n",
        "score = model.score(test_data, test_labels)\n",
        "print(\"Random Forest Test Accruacy: {:.2f}%\".format(score*100))"
      ]
    },
    {
      "cell_type": "code",
      "execution_count": null,
      "metadata": {
        "id": "59SIgXfdEew9"
      },
      "outputs": [],
      "source": [
        "# validation data for potato and sweet potato\n",
        "potato = []\n",
        "potato_labels = []\n",
        "sweet_potato = []\n",
        "sweet_potato_labels = []"
      ]
    },
    {
      "cell_type": "code",
      "execution_count": null,
      "metadata": {
        "colab": {
          "base_uri": "https://localhost:8080/"
        },
        "id": "I4ef0hVdV6OI",
        "outputId": "0111b57e-0c61-48f0-9349-987e28576a47"
      },
      "outputs": [
        {
          "name": "stdout",
          "output_type": "stream",
          "text": [
            "14\n",
            "potato ok\n"
          ]
        }
      ],
      "source": [
        "potato_files = glob.glob(valid_dir + 'potato' + \"/*.jpg\") + glob.glob(valid_dir + 'potato' + \"/*.jpeg\") + glob.glob(valid_dir + 'potato' + \"/*.png\") + glob.glob(valid_dir + 'potato' + \"/*.JPG\")\n",
        "label = 'potato'\n",
        "i = word_to_index(label, vegetable_classes)\n",
        "print(i)\n",
        "if(i == None):\n",
        "  print(label)\n",
        "\n",
        "for j, potato_files in enumerate(potato_files):\n",
        "  if j!=0 and j%32 == 0:\n",
        "    print(label + \" ok\")\n",
        "  img = cv2.imread(potato_files)\n",
        "  img = rescale_img(img, label, potato_files)\n",
        "  img = img.flatten()\n",
        "  img = img.tolist()\n",
        "  potato.append(img)\n",
        "  potato_labels.append(i)"
      ]
    },
    {
      "cell_type": "code",
      "execution_count": null,
      "metadata": {
        "colab": {
          "base_uri": "https://localhost:8080/"
        },
        "id": "McQcEpWsWh4n",
        "outputId": "288e4174-1759-4b36-e7c0-693548c04c9f"
      },
      "outputs": [
        {
          "name": "stdout",
          "output_type": "stream",
          "text": [
            "18\n",
            "sweet potato ok\n"
          ]
        }
      ],
      "source": [
        "sweet_potato_files = glob.glob(valid_dir + 'sweet potato' + \"/*.jpg\") + glob.glob(valid_dir + 'sweet potato' + \"/*.jpeg\") + glob.glob(valid_dir + 'sweet potato' + \"/*.png\") + glob.glob(valid_dir + 'sweet potato' + \"/*.JPG\")\n",
        "label = 'sweet potato'\n",
        "i = word_to_index(label, vegetable_classes)\n",
        "print(i)\n",
        "if(i == None):\n",
        "  print(label)\n",
        "\n",
        "for j, sweet_potato_files in enumerate(sweet_potato_files):\n",
        "  if j!=0 and j%32 == 0:\n",
        "    print(label + \" ok\")\n",
        "  img = cv2.imread(sweet_potato_files)\n",
        "  img = rescale_img(img, label, sweet_potato_files)\n",
        "  img = img.flatten()\n",
        "  img = img.tolist()\n",
        "  sweet_potato.append(img)\n",
        "  sweet_potato_labels.append(i)"
      ]
    },
    {
      "cell_type": "code",
      "execution_count": null,
      "metadata": {
        "colab": {
          "base_uri": "https://localhost:8080/"
        },
        "id": "Nq2fXWD1WtmV",
        "outputId": "9116939b-8d9e-410d-ced0-e05b403454e2"
      },
      "outputs": [
        {
          "name": "stdout",
          "output_type": "stream",
          "text": [
            "Random Forest validation accruacy on potatos: 35.29%\n",
            "Random Forest validation accruacy on sweet potatos: 41.18%\n"
          ]
        }
      ],
      "source": [
        "potato_score = model.score(potato, potato_labels)\n",
        "sweet_potato_score = model.score(sweet_potato, sweet_potato_labels)\n",
        "print(\"Random Forest validation accruacy on potatos: {:.2f}%\".format(potato_score*100))\n",
        "print(\"Random Forest validation accruacy on sweet potatos: {:.2f}%\".format(sweet_potato_score*100))"
      ]
    }
  ],
  "metadata": {
    "accelerator": "GPU",
    "colab": {
      "provenance": []
    },
    "gpuClass": "premium",
    "kernelspec": {
      "display_name": "Python 3",
      "name": "python3"
    },
    "language_info": {
      "name": "python"
    }
  },
  "nbformat": 4,
  "nbformat_minor": 0
}
