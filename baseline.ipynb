{
  "cells": [
    {
      "cell_type": "code",
      "execution_count": null,
      "metadata": {
        "colab": {
          "base_uri": "https://localhost:8080/"
        },
        "id": "EF_j1QLXuqZU",
        "outputId": "5a274130-046f-4f84-c1ea-3bbe4e94189c"
      },
      "outputs": [
        {
          "output_type": "stream",
          "name": "stdout",
          "text": [
            "Mounted at /content/drive\n"
          ]
        }
      ],
      "source": [
        "from google.colab import drive\n",
        "drive.mount('/content/drive')"
      ]
    },
    {
      "cell_type": "code",
      "source": [
        "!pip install -q kaggle\n",
        "!kaggle datasets download -d misrakahmed/vegetable-image-dataset\n",
        "!unzip /content/vegetable-image-dataset.zip -d /content/datasets/"
      ],
      "metadata": {
        "id": "MrqoWEEcq-qT"
      },
      "execution_count": null,
      "outputs": []
    },
    {
      "cell_type": "code",
      "execution_count": null,
      "metadata": {
        "id": "V_R2JjNpuubw"
      },
      "outputs": [],
      "source": [
        "import numpy as np\n",
        "import matplotlib.pyplot as plt\n",
        "import cv2\n",
        "import os\n",
        "import glob\n",
        "\n",
        "from sklearn.ensemble import RandomForestClassifier"
      ]
    },
    {
      "cell_type": "code",
      "execution_count": null,
      "metadata": {
        "id": "PgtH50KwuwxF"
      },
      "outputs": [],
      "source": [
        "np.random.seed(1000)\n",
        "\n",
        "# data already split into train, validation, test\n",
        "# 1000/class for train, 200/class validation, 200/class test\n",
        "data_dir = \"/content/datasets/Vegetable Images/\"\n",
        "train_dir = data_dir + \"train/\"\n",
        "valid_dir = data_dir + \"valid/\"\n",
        "test_dir = data_dir + \"test/\"\n",
        "\n",
        "# 15 vegetable classes\n",
        "classes = [\"Bean\", \"Bitter_Gourd\", \"Bottle_Gourd\", \"Brinjal\", \"Broccoli\", \"Cabbage\", \n",
        "           \"Capsicum\", \"Carrot\", \"Cauliflower\", \"Cucumber\", \"Papaya\", \"Potato\", \"Pumpkin\", \"Radish\", \"Tomato\"]"
      ]
    },
    {
      "cell_type": "code",
      "execution_count": null,
      "metadata": {
        "id": "sOZ_fv424qKS"
      },
      "outputs": [],
      "source": [
        "# convert string class names to int\n",
        "def word_to_index(label, classes):\n",
        "  for i, word in enumerate(classes):\n",
        "    if word == label:\n",
        "      return i\n",
        "  \n",
        "  return None;"
      ]
    },
    {
      "cell_type": "code",
      "execution_count": null,
      "metadata": {
        "id": "0a0YfMqSbS4R"
      },
      "outputs": [],
      "source": [
        "# random forest wants nparrays as input\n",
        "train_data = []\n",
        "train_labels = []\n",
        "test_data = []\n",
        "test_labels = []"
      ]
    },
    {
      "cell_type": "code",
      "execution_count": null,
      "metadata": {
        "id": "6uLLrMfY4pud"
      },
      "outputs": [],
      "source": [
        "for label in os.listdir(test_dir):\n",
        "  image_files = filenames = glob.glob(test_dir + label + \"/*.jpg\")\n",
        "  i = word_to_index(label, classes)\n",
        "  for j, image_file in enumerate(image_files):\n",
        "    if j > 50:\n",
        "      break\n",
        "    img = cv2.imread(image_file)\n",
        "    img = img.flatten()\n",
        "    img = img.tolist()\n",
        "    test_data.append(img)\n",
        "    test_labels.append(i)\n",
        "\n",
        "test_data = np.array(test_data)"
      ]
    },
    {
      "cell_type": "code",
      "execution_count": null,
      "metadata": {
        "id": "xE_iLbGZQSW5"
      },
      "outputs": [],
      "source": [
        "for label in os.listdir(train_dir):\n",
        "  image_files = filenames = glob.glob(train_dir + label + \"/*.jpg\")\n",
        "  i = word_to_index(label, classes)\n",
        "  for j, image_file in enumerate(image_files):\n",
        "    if j > 75:\n",
        "      break\n",
        "    img = cv2.imread(image_file)\n",
        "    img = img.flatten()\n",
        "    img = img.tolist()\n",
        "    train_data.append(img)\n",
        "    train_labels.append(i)\n",
        "\n",
        "train_data = np.array(train_data)"
      ]
    },
    {
      "cell_type": "code",
      "execution_count": null,
      "metadata": {
        "id": "eHGvrCdxtRv2"
      },
      "outputs": [],
      "source": [
        "# Random Forest\n",
        "model = RandomForestClassifier(n_estimators=250)\n",
        "\n",
        "# Fit the model to training data\n",
        "model.fit(train_data, train_labels)"
      ]
    },
    {
      "cell_type": "code",
      "source": [
        "# Make predictions\n",
        "score = model.score(test_data, test_labels)\n",
        "print(\"Random Forest Test Accruacy: {:.2f}%\".format(score*100))"
      ],
      "metadata": {
        "colab": {
          "base_uri": "https://localhost:8080/"
        },
        "id": "uDtdqiitdDPa",
        "outputId": "ca3b4798-473b-42eb-bd77-ce43d540d804"
      },
      "execution_count": null,
      "outputs": [
        {
          "output_type": "stream",
          "name": "stdout",
          "text": [
            "Random Forest Test Accruacy: 63.27%\n"
          ]
        }
      ]
    }
  ],
  "metadata": {
    "colab": {
      "provenance": []
    },
    "gpuClass": "premium",
    "kernelspec": {
      "display_name": "Python 3",
      "name": "python3"
    },
    "language_info": {
      "name": "python"
    },
    "accelerator": "GPU"
  },
  "nbformat": 4,
  "nbformat_minor": 0
}